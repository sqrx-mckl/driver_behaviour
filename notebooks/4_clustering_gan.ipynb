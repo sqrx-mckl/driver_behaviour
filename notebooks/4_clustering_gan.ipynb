{
 "cells": [
  {
   "cell_type": "code",
   "execution_count": 1,
   "metadata": {
    "tags": []
   },
   "outputs": [
    {
     "output_type": "stream",
     "name": "stdout",
     "text": "2.2.4-tf\n"
    }
   ],
   "source": [
    "import sys\n",
    "from tensorflow.python.keras import __package__ as keras_package\n",
    "print (sys.modules[keras_package].__version__)"
   ]
  },
  {
   "cell_type": "markdown",
   "metadata": {},
   "source": [
    "# Clustering\n",
    "I have the data sequenced from the previous event cutting algorithm\n",
    "I have some statistical analysis applied on the \n",
    "\n",
    "Now I will:\n",
    "* Apply GAN Bi-GRU on those sequences\n",
    "* get a categorisation by the GAN\n",
    "* plot in a new T-SNE / UMAP each sequences projected from the new encoding\n",
    "\n",
    "## Source\n",
    "This is heavily inspired (with copy/paste) from the following article:\n",
    "[Data Exploration with Adversarial Autoencoders](https://towardsdatascience.com/data-exploration-with-adversarial-autoencoders-311a4e1f271b)\n"
   ]
  },
  {
   "cell_type": "code",
   "execution_count": 2,
   "metadata": {},
   "outputs": [],
   "source": [
    "import pandas as pd\n",
    "import dask.dataframe as dd\n",
    "from dask.diagnostics import ProgressBar\n",
    "import numpy as np\n",
    "\n",
    "from pprint import pprint\n",
    "from IPython.display import display\n",
    "from typing import Dict, Union, List, Callable, Tuple\n",
    "from pathlib import Path\n",
    "\n",
    "import lib.util\n",
    "import lib.data_preparation\n",
    "import lib.event_detection\n",
    "import lib.analysis\n",
    "\n",
    "import seaborn as sns\n",
    "import matplotlib.pyplot as plt\n",
    "import plotly.express as px\n",
    "\n",
    "from tqdm.notebook import tqdm\n",
    "tqdm.pandas()\n",
    "\n",
    "%matplotlib inline\n",
    "\n",
    "sns.set_style('darkgrid')\n",
    "sns.set_context('notebook')\n",
    "\n",
    "pd.set_option('max_columns', None)"
   ]
  },
  {
   "cell_type": "code",
   "execution_count": 3,
   "metadata": {},
   "outputs": [],
   "source": [
    "folderpath = Path('data/UAH-DRIVESET-v1/')"
   ]
  },
  {
   "cell_type": "markdown",
   "metadata": {},
   "source": [
    "# Model/data preparation and training"
   ]
  },
  {
   "cell_type": "markdown",
   "metadata": {},
   "source": [
    "## Prepare the data\n",
    "\n",
    "Here I would like to focus on Tensorflow first and foremost, the Dask usage can be managed later.\n",
    "\n",
    "Hence I will only retrieve the data I need."
   ]
  },
  {
   "cell_type": "code",
   "execution_count": 4,
   "metadata": {},
   "outputs": [],
   "source": [
    "df = pd.read_parquet(Path(folderpath, 'data_ready.parquet'))\n",
    "df = df.sort_values(['corner_select', 'timestamp'])"
   ]
  },
  {
   "cell_type": "code",
   "execution_count": 5,
   "metadata": {},
   "outputs": [],
   "source": [
    "split_by = 'corner_select'\n",
    "col = [\n",
    "    'gx',\n",
    "    'gy',\n",
    "    'yr',\n",
    "    'speed',\n",
    "    'distx',\n",
    "    'disty',\n",
    "    'time_event',\n",
    "]\n",
    "feat = [\n",
    "    'gx',\n",
    "    'gy',\n",
    "    'yr',\n",
    "    'speed'\n",
    "]"
   ]
  },
  {
   "cell_type": "markdown",
   "metadata": {},
   "source": [
    "## Split Train/Test\n",
    "\n",
    "Those plots are good to check the good repartition between train and test data.\n",
    "- \"lib.analysis.plot_gx_gy()\"\n",
    "- \"lib.analysis.plot_gy_speed()\"\n",
    "\n",
    "There is no really test data, as the test data is fake data created to confuse the determinators"
   ]
  },
  {
   "cell_type": "code",
   "execution_count": 6,
   "metadata": {},
   "outputs": [],
   "source": [
    "from sklearn.model_selection import train_test_split\n",
    "\n",
    "# train_ix, test_ix = train_test_split(df[split_by].unique(), test_size=0.30)\n",
    "train_ix = df[split_by].unique()\n",
    "test_ix = df[split_by].unique()\n",
    "\n",
    "df_train = df[[*feat,split_by]].where(lambda x: x[split_by].isin(train_ix)).dropna()\n",
    "df_test = df[[*feat,split_by]].where(lambda x: x[split_by].isin(test_ix)).dropna()\n",
    "\n",
    "df = df[[*col,split_by]]"
   ]
  },
  {
   "cell_type": "code",
   "execution_count": 7,
   "metadata": {},
   "outputs": [
    {
     "output_type": "display_data",
     "data": {
      "text/plain": "'70 / 70 / 70 (train/test/total) event'"
     },
     "metadata": {}
    }
   ],
   "source": [
    "display(f'{df_train[split_by].unique().shape[0]} / {df_test[split_by].unique().shape[0]} / {df[split_by].unique().shape[0]} (train/test/total) event')"
   ]
  },
  {
   "cell_type": "markdown",
   "metadata": {},
   "source": [
    "## Make the Batch sequences"
   ]
  },
  {
   "cell_type": "code",
   "execution_count": 8,
   "metadata": {},
   "outputs": [],
   "source": [
    "train_mean = df_train.mean()\n",
    "train_std = df_train.std()\n",
    "train_max = df_train.max()\n",
    "\n",
    "def normalize_data(df, mean=train_mean, std=train_std, split_by=split_by) -> pd.DataFrame:\n",
    "    df_num = df.drop(columns=split_by).select_dtypes('number')\n",
    "    df_obj = df.drop(columns=split_by).select_dtypes(exclude='number')\n",
    "\n",
    "    df_num = (df_num - mean) / std\n",
    "\n",
    "    # Some specific case - mainly time:\n",
    "    if df_num.columns.isin(['time_event']).any():\n",
    "        df_num['time_event'] = df['time_event'] / df['time_event'].max()\n",
    "\n",
    "    if df_obj.empty:\n",
    "        df_norm = df_num\n",
    "    else:\n",
    "        df_norm = df_num.join(pd.get_dummies(df_obj))\n",
    "\n",
    "    return df_norm.join(df[split_by].cat.remove_unused_categories())"
   ]
  },
  {
   "cell_type": "code",
   "execution_count": 9,
   "metadata": {},
   "outputs": [
    {
     "output_type": "display_data",
     "data": {
      "text/plain": "           gx        gy        yr     speed                      corner_select\n432 -0.607836 -0.249625 -0.046481  0.065889  12km-D5-AGGRESSIVE-SECONDARY19x31\n433 -0.948165 -0.659659 -0.048816  0.069702  12km-D5-AGGRESSIVE-SECONDARY19x31\n434 -0.018216 -0.638632 -0.049148  0.073515  12km-D5-AGGRESSIVE-SECONDARY19x31\n435  0.770032 -0.340044 -0.043825  0.077329  12km-D5-AGGRESSIVE-SECONDARY19x31\n436  0.284531 -0.151140 -0.039223  0.081142  12km-D5-AGGRESSIVE-SECONDARY19x31",
      "text/html": "<div>\n<style scoped>\n    .dataframe tbody tr th:only-of-type {\n        vertical-align: middle;\n    }\n\n    .dataframe tbody tr th {\n        vertical-align: top;\n    }\n\n    .dataframe thead th {\n        text-align: right;\n    }\n</style>\n<table border=\"1\" class=\"dataframe\">\n  <thead>\n    <tr style=\"text-align: right;\">\n      <th></th>\n      <th>gx</th>\n      <th>gy</th>\n      <th>yr</th>\n      <th>speed</th>\n      <th>corner_select</th>\n    </tr>\n  </thead>\n  <tbody>\n    <tr>\n      <th>432</th>\n      <td>-0.607836</td>\n      <td>-0.249625</td>\n      <td>-0.046481</td>\n      <td>0.065889</td>\n      <td>12km-D5-AGGRESSIVE-SECONDARY19x31</td>\n    </tr>\n    <tr>\n      <th>433</th>\n      <td>-0.948165</td>\n      <td>-0.659659</td>\n      <td>-0.048816</td>\n      <td>0.069702</td>\n      <td>12km-D5-AGGRESSIVE-SECONDARY19x31</td>\n    </tr>\n    <tr>\n      <th>434</th>\n      <td>-0.018216</td>\n      <td>-0.638632</td>\n      <td>-0.049148</td>\n      <td>0.073515</td>\n      <td>12km-D5-AGGRESSIVE-SECONDARY19x31</td>\n    </tr>\n    <tr>\n      <th>435</th>\n      <td>0.770032</td>\n      <td>-0.340044</td>\n      <td>-0.043825</td>\n      <td>0.077329</td>\n      <td>12km-D5-AGGRESSIVE-SECONDARY19x31</td>\n    </tr>\n    <tr>\n      <th>436</th>\n      <td>0.284531</td>\n      <td>-0.151140</td>\n      <td>-0.039223</td>\n      <td>0.081142</td>\n      <td>12km-D5-AGGRESSIVE-SECONDARY19x31</td>\n    </tr>\n  </tbody>\n</table>\n</div>"
     },
     "metadata": {}
    }
   ],
   "source": [
    "df_train = normalize_data(df_train)\n",
    "df_test = normalize_data(df_test)\n",
    "data = normalize_data(df)\n",
    "\n",
    "display(df_train.head())"
   ]
  },
  {
   "cell_type": "markdown",
   "metadata": {},
   "source": [
    "## Pad sequences\n",
    "Unfortunetely all our sequences are not of the same size as seen in graph below"
   ]
  },
  {
   "cell_type": "code",
   "execution_count": 10,
   "metadata": {},
   "outputs": [
    {
     "output_type": "execute_result",
     "data": {
      "text/plain": "Text(0.5, 1.0, 'event lengths')"
     },
     "metadata": {},
     "execution_count": 10
    },
    {
     "output_type": "display_data",
     "data": {
      "text/plain": "<Figure size 432x288 with 1 Axes>",
      "image/png": "[encoded data removed]"
     },
     "metadata": {}
    },
    {
     "output_type": "display_data",
     "data": {
      "text/plain": "<Figure size 432x288 with 1 Axes>",
      "image/png": "[encoded data removed]"
     },
     "metadata": {}
    }
   ],
   "source": [
    "plt.figure()\n",
    "df_train.groupby(split_by)[split_by].count().plot(kind='hist')\n",
    "plt.title('event lengths')\n",
    "\n",
    "plt.figure()\n",
    "df_test.groupby(split_by)[split_by].count().plot(kind='hist')\n",
    "plt.title('event lengths')"
   ]
  },
  {
   "cell_type": "code",
   "execution_count": 11,
   "metadata": {
    "tags": []
   },
   "outputs": [
    {
     "output_type": "display_data",
     "data": {
      "text/plain": "HBox(children=(FloatProgress(value=0.0, max=70.0), HTML(value='')))",
      "application/vnd.jupyter.widget-view+json": {
       "version_major": 2,
       "version_minor": 0,
       "model_id": "e3ffb3b7f3874547ada3a5da3668f96d"
      }
     },
     "metadata": {}
    },
    {
     "output_type": "stream",
     "name": "stdout",
     "text": "\n"
    },
    {
     "output_type": "display_data",
     "data": {
      "text/plain": "HBox(children=(FloatProgress(value=0.0, max=70.0), HTML(value='')))",
      "application/vnd.jupyter.widget-view+json": {
       "version_major": 2,
       "version_minor": 0,
       "model_id": "44a009c1bb1b483cacc1180681e608bc"
      }
     },
     "metadata": {}
    },
    {
     "output_type": "stream",
     "name": "stdout",
     "text": "\n"
    },
    {
     "output_type": "display_data",
     "data": {
      "text/plain": "HBox(children=(FloatProgress(value=0.0, max=70.0), HTML(value='')))",
      "application/vnd.jupyter.widget-view+json": {
       "version_major": 2,
       "version_minor": 0,
       "model_id": "4cf27f21881243b5b24b70eae02b933b"
      }
     },
     "metadata": {}
    },
    {
     "output_type": "stream",
     "name": "stdout",
     "text": "\n"
    },
    {
     "output_type": "display_data",
     "data": {
      "text/plain": "corner_select\n12km-D5-AGGRESSIVE-SECONDARY19x31    [[-0.6078356838897419, -0.24962464611579527, -...\n12km-D5-AGGRESSIVE-SECONDARY4x91     [[-0.4486855153725832, 0.5049030056721662, -0....\n13km-D1-DROWSY-SECONDARY11x44        [[-0.15192943373808346, -0.2418999783976915, -...\n13km-D1-DROWSY-SECONDARY1x04         [[-0.22595819690251137, -0.22633693743147273, ...\n16km-D1-AGGRESSIVE-SECONDARY2x25     [[-0.15851856918020074, 0.38258718049247864, 0...\n                                                           ...                        \n26km-D3-DROWSY-MOTORWAY53x09         [[0.4323965103343865, 0.35092021237767024, 0.0...\n26km-D3-DROWSY-MOTORWAY9x69          [[-0.2698168190647406, -0.26579206735457056, -...\n26km-D3-NORMAL-MOTORWAY47x.3         [[0.5374812297552328, -0.2434146328267104, -0....\n26km-D6-AGGRESSIVE-MOTORWAY1x17      [[-0.8448917958236821, 0.3497943561141523, 0.0...\n26km-D6-AGGRESSIVE-MOTORWAY5x17      [[-0.13948476975343727, 0.2674866955968307, 0....\nLength: 70, dtype: object"
     },
     "metadata": {}
    },
    {
     "output_type": "display_data",
     "data": {
      "text/plain": "(70, 990, 4)"
     },
     "metadata": {}
    },
    {
     "output_type": "display_data",
     "data": {
      "text/plain": "array([[[-6.07835684e-01, -2.49624646e-01, -4.64810277e-02,\n          6.58890614e-02],\n        [-9.48164616e-01, -6.59658508e-01, -4.88163063e-02,\n          6.97022294e-02],\n        [-1.82156630e-02, -6.38631624e-01, -4.91480618e-02,\n          7.35154170e-02],\n        ...,\n        [ 0.00000000e+00,  0.00000000e+00,  0.00000000e+00,\n          0.00000000e+00],\n        [ 0.00000000e+00,  0.00000000e+00,  0.00000000e+00,\n          0.00000000e+00],\n        [ 0.00000000e+00,  0.00000000e+00,  0.00000000e+00,\n          0.00000000e+00]],\n\n       [[-4.48685515e-01,  5.04903006e-01, -2.14920916e-03,\n          2.51477912e+00],\n        [ 4.98501813e-02,  5.18434534e-01, -5.43500167e-04,\n          2.50827430e+00],\n        [ 1.00779487e+00,  2.70182309e-01,  4.40381511e-04,\n          2.50176945e+00],\n        ...,\n        [ 0.00000000e+00,  0.00000000e+00,  0.00000000e+00,\n          0.00000000e+00],\n        [ 0.00000000e+00,  0.00000000e+00,  0.00000000e+00,\n          0.00000000e+00],\n        [ 0.00000000e+00,  0.00000000e+00,  0.00000000e+00,\n          0.00000000e+00]],\n\n       [[-1.51929434e-01, -2.41899978e-01, -4.40324287e-02,\n          3.25600418e-01],\n        [ 1.55394951e-01, -4.43964183e-01, -4.51411941e-02,\n          3.26049360e-01],\n        [ 7.73208185e-02, -3.92864049e-01, -4.72753501e-02,\n          3.26498302e-01],\n        ...,\n        [ 0.00000000e+00,  0.00000000e+00,  0.00000000e+00,\n          0.00000000e+00],\n        [ 0.00000000e+00,  0.00000000e+00,  0.00000000e+00,\n          0.00000000e+00],\n        [ 0.00000000e+00,  0.00000000e+00,  0.00000000e+00,\n          0.00000000e+00]],\n\n       ...,\n\n       [[ 5.37481230e-01, -2.43414633e-01, -2.13298078e-02,\n         -1.01223089e+00],\n        [ 3.85739881e-01, -1.39752731e-01, -2.08996219e-02,\n         -1.01223089e+00],\n        [ 1.89232688e-02, -5.45191724e-02, -2.26454778e-02,\n         -1.01223089e+00],\n        ...,\n        [ 0.00000000e+00,  0.00000000e+00,  0.00000000e+00,\n          0.00000000e+00],\n        [ 0.00000000e+00,  0.00000000e+00,  0.00000000e+00,\n          0.00000000e+00],\n        [ 0.00000000e+00,  0.00000000e+00,  0.00000000e+00,\n          0.00000000e+00]],\n\n       [[-8.44891796e-01,  3.49794356e-01,  8.90180052e-03,\n          1.72424554e+00],\n        [-9.47481688e-01,  4.74762333e-01,  2.61265473e-02,\n          1.72481616e+00],\n        [-5.81670571e-01,  1.70986636e-01,  1.57094890e-02,\n          1.72538677e+00],\n        ...,\n        [ 0.00000000e+00,  0.00000000e+00,  0.00000000e+00,\n          0.00000000e+00],\n        [ 0.00000000e+00,  0.00000000e+00,  0.00000000e+00,\n          0.00000000e+00],\n        [ 0.00000000e+00,  0.00000000e+00,  0.00000000e+00,\n          0.00000000e+00]],\n\n       [[-1.39484770e-01,  2.67486696e-01,  2.54228186e-02,\n         -3.05671475e-01],\n        [ 3.96185332e-01,  1.64601312e-01,  2.59869319e-02,\n         -3.05671475e-01],\n        [ 6.34073997e-01,  3.85642652e-02,  2.51077635e-02,\n         -3.05671475e-01],\n        ...,\n        [ 0.00000000e+00,  0.00000000e+00,  0.00000000e+00,\n          0.00000000e+00],\n        [ 0.00000000e+00,  0.00000000e+00,  0.00000000e+00,\n          0.00000000e+00],\n        [ 0.00000000e+00,  0.00000000e+00,  0.00000000e+00,\n          0.00000000e+00]]])"
     },
     "metadata": {}
    }
   ],
   "source": [
    "from tensorflow_core.python.keras.preprocessing import sequence\n",
    "\n",
    "def sequence_data(df, split_by=split_by) -> Tuple[pd.Index, np.array]:\n",
    "    dataset = df.copy()\n",
    "    dataset[split_by] = dataset[split_by].cat.remove_unused_categories()\n",
    "    dataset = dataset.groupby(split_by).progress_apply(\n",
    "        lambda x: x.drop(columns=[split_by]).values\n",
    "    )\n",
    "    \n",
    "    dataset_idx = dataset.index\n",
    "    x = sequence.pad_sequences(dataset.values, padding='post', value=0, dtype='float64')\n",
    "    \n",
    "    return dataset, x\n",
    "\n",
    "train_dataset, train_x = sequence_data(df_train)\n",
    "test_dataset, test_x = sequence_data(df_test)\n",
    "dataset, data_x = sequence_data(data)\n",
    "\n",
    "display(train_dataset)\n",
    "display(train_x.shape)\n",
    "display(train_x)"
   ]
  },
  {
   "cell_type": "markdown",
   "metadata": {},
   "source": [
    "## Setup the Model"
   ]
  },
  {
   "cell_type": "code",
   "execution_count": 12,
   "metadata": {},
   "outputs": [],
   "source": [
    "from tensorflow_core.python.keras.models import Sequential, Input, Model\n",
    "from tensorflow_core.python.keras.layers import (\n",
    "    Bidirectional, Dropout, TimeDistributed,\n",
    "    BatchNormalization, PReLU, ELU,\n",
    "    Concatenate, RepeatVector, Subtract,\n",
    "    LSTM, Dense\n",
    ")\n",
    "# from tensorflow_core.python.keras.optimizers import adam"
   ]
  },
  {
   "cell_type": "code",
   "execution_count": 13,
   "metadata": {},
   "outputs": [],
   "source": [
    "window_size = train_x.shape[1]\n",
    "input_dim = train_x.shape[2]\n",
    "latent_dim = 8\n",
    "cat_dim = 4\n",
    "\n",
    "prior_discriminator = lib.analysis.demo_create_discriminator(latent_dim)\n",
    "prior_discriminator.compile(loss='binary_crossentropy', \n",
    "                            optimizer='adam',\n",
    "                            metrics=['accuracy'])\n",
    "\n",
    "prior_discriminator.trainable = False\n",
    "\n",
    "cat_discriminator = lib.analysis.demo_create_discriminator(cat_dim)\n",
    "cat_discriminator.compile(loss='binary_crossentropy', \n",
    "                          optimizer='adam', \n",
    "                          metrics=['accuracy'])\n",
    "\n",
    "cat_discriminator.trainable = False\n",
    "\n",
    "encoder = lib.analysis.demo_create_encoder(latent_dim, cat_dim, window_size, input_dim)\n",
    "\n",
    "signal_in = Input(shape=(window_size, input_dim))\n",
    "reconstructed_signal, encoded_repr, category, _ = encoder(signal_in)\n",
    "\n",
    "is_real_prior = prior_discriminator(encoded_repr)\n",
    "is_real_cat = cat_discriminator(category)\n",
    "\n",
    "autoencoder = Model(signal_in, [reconstructed_signal, is_real_prior, is_real_cat])\n",
    "autoencoder.compile(\n",
    "    loss=['mse', 'binary_crossentropy', 'binary_crossentropy'],\n",
    "    loss_weights=[0.99, 0.005, 0.005],\n",
    "    optimizer='adam'\n",
    ")"
   ]
  },
  {
   "cell_type": "code",
   "execution_count": 14,
   "metadata": {
    "tags": []
   },
   "outputs": [
    {
     "output_type": "stream",
     "name": "stdout",
     "text": "Model: \"model\"\n_________________________________________________________________\nLayer (type)                 Output Shape              Param #   \n=================================================================\ninput_1 (InputLayer)         [(None, 8)]               0         \n_________________________________________________________________\ndense (Dense)                (None, 128)               1152      \n_________________________________________________________________\nelu (ELU)                    (None, 128)               0         \n_________________________________________________________________\ndense_1 (Dense)              (None, 64)                8256      \n_________________________________________________________________\nelu_1 (ELU)                  (None, 64)                0         \n_________________________________________________________________\ndense_2 (Dense)              (None, 1)                 65        \n=================================================================\nWARNING:tensorflow:Discrepancy between trainable weights and collected trainable weights, did you set `model.trainable` without calling `model.compile` after ?\nTotal params: 18,946\nTrainable params: 9,473\nNon-trainable params: 9,473\n_________________________________________________________________\n"
    },
    {
     "output_type": "display_data",
     "data": {
      "text/plain": "None"
     },
     "metadata": {}
    },
    {
     "output_type": "stream",
     "name": "stdout",
     "text": "Model: \"model_1\"\n_________________________________________________________________\nLayer (type)                 Output Shape              Param #   \n=================================================================\ninput_2 (InputLayer)         [(None, 4)]               0         \n_________________________________________________________________\ndense_3 (Dense)              (None, 128)               640       \n_________________________________________________________________\nelu_2 (ELU)                  (None, 128)               0         \n_________________________________________________________________\ndense_4 (Dense)              (None, 64)                8256      \n_________________________________________________________________\nelu_3 (ELU)                  (None, 64)                0         \n_________________________________________________________________\ndense_5 (Dense)              (None, 1)                 65        \n=================================================================\nTotal params: 17,922\nTrainable params: 8,961\nNon-trainable params: 8,961\n_________________________________________________________________\n"
    },
    {
     "output_type": "display_data",
     "data": {
      "text/plain": "None"
     },
     "metadata": {}
    }
   ],
   "source": [
    "display(prior_discriminator.summary())\n",
    "display(cat_discriminator.summary())"
   ]
  },
  {
   "cell_type": "code",
   "execution_count": 15,
   "metadata": {
    "tags": []
   },
   "outputs": [
    {
     "output_type": "stream",
     "name": "stdout",
     "text": "Model: \"model_3\"\n__________________________________________________________________________________________________\nLayer (type)                    Output Shape         Param #     Connected to                     \n==================================================================================================\ninput_4 (InputLayer)            [(None, 990, 4)]     0                                            \n__________________________________________________________________________________________________\nmodel_2 (Model)                 [(None, 990, 4), (No 701072      input_4[0][0]                    \n__________________________________________________________________________________________________\nmodel (Model)                   (None, 1)            9473        model_2[1][1]                    \n__________________________________________________________________________________________________\nmodel_1 (Model)                 (None, 1)            8961        model_2[1][2]                    \n==================================================================================================\nTotal params: 719,506\nTrainable params: 700,048\nNon-trainable params: 19,458\n__________________________________________________________________________________________________\n"
    },
    {
     "output_type": "display_data",
     "data": {
      "text/plain": "None"
     },
     "metadata": {}
    },
    {
     "output_type": "stream",
     "name": "stdout",
     "text": "Model: \"model_2\"\n__________________________________________________________________________________________________\nLayer (type)                    Output Shape         Param #     Connected to                     \n==================================================================================================\ninput_3 (InputLayer)            [(None, 990, 4)]     0                                            \n__________________________________________________________________________________________________\ntime_distributed (TimeDistribut (None, 990, 64)      320         input_3[0][0]                    \n__________________________________________________________________________________________________\nbidirectional (Bidirectional)   (None, 990, 256)     197632      time_distributed[0][0]           \n__________________________________________________________________________________________________\nbatch_normalization (BatchNorma (None, 990, 256)     1024        bidirectional[0][0]              \n__________________________________________________________________________________________________\nelu_4 (ELU)                     (None, 990, 256)     0           batch_normalization[0][0]        \n__________________________________________________________________________________________________\nbidirectional_1 (Bidirectional) (None, 128)          164352      elu_4[0][0]                      \n__________________________________________________________________________________________________\nbatch_normalization_1 (BatchNor (None, 128)          512         bidirectional_1[0][0]            \n__________________________________________________________________________________________________\nelu_5 (ELU)                     (None, 128)          0           batch_normalization_1[0][0]      \n__________________________________________________________________________________________________\ndense_9 (Dense)                 (None, 64)           8256        elu_5[0][0]                      \n__________________________________________________________________________________________________\ndense_7 (Dense)                 (None, 64)           8256        elu_5[0][0]                      \n__________________________________________________________________________________________________\nbatch_normalization_3 (BatchNor (None, 64)           256         dense_9[0][0]                    \n__________________________________________________________________________________________________\nbatch_normalization_2 (BatchNor (None, 64)           256         dense_7[0][0]                    \n__________________________________________________________________________________________________\np_re_lu_1 (PReLU)               (None, 64)           64          batch_normalization_3[0][0]      \n__________________________________________________________________________________________________\np_re_lu (PReLU)                 (None, 64)           64          batch_normalization_2[0][0]      \n__________________________________________________________________________________________________\ndense_10 (Dense)                (None, 8)            520         p_re_lu_1[0][0]                  \n__________________________________________________________________________________________________\ndense_8 (Dense)                 (None, 4)            260         p_re_lu[0][0]                    \n__________________________________________________________________________________________________\nconcatenate (Concatenate)       (None, 12)           0           dense_10[0][0]                   \n                                                                 dense_8[0][0]                    \n__________________________________________________________________________________________________\nrepeat_vector (RepeatVector)    (None, 990, 12)      0           concatenate[0][0]                \n__________________________________________________________________________________________________\nbidirectional_2 (Bidirectional) (None, 990, 128)     39424       repeat_vector[0][0]              \n__________________________________________________________________________________________________\nelu_6 (ELU)                     (None, 990, 128)     0           bidirectional_2[0][0]            \n__________________________________________________________________________________________________\nbidirectional_3 (Bidirectional) (None, 990, 256)     263168      elu_6[0][0]                      \n__________________________________________________________________________________________________\nelu_7 (ELU)                     (None, 990, 256)     0           bidirectional_3[0][0]            \n__________________________________________________________________________________________________\ntime_distributed_1 (TimeDistrib (None, 990, 64)      16448       elu_7[0][0]                      \n__________________________________________________________________________________________________\nelu_8 (ELU)                     (None, 990, 64)      0           time_distributed_1[0][0]         \n__________________________________________________________________________________________________\ntime_distributed_2 (TimeDistrib (None, 990, 4)       260         elu_8[0][0]                      \n__________________________________________________________________________________________________\nsubtract (Subtract)             (None, 990, 4)       0           input_3[0][0]                    \n                                                                 time_distributed_2[0][0]         \n==================================================================================================\nTotal params: 701,072\nTrainable params: 700,048\nNon-trainable params: 1,024\n__________________________________________________________________________________________________\nModel: \"model\"\n_________________________________________________________________\nLayer (type)                 Output Shape              Param #   \n=================================================================\ninput_1 (InputLayer)         [(None, 8)]               0         \n_________________________________________________________________\ndense (Dense)                (None, 128)               1152      \n_________________________________________________________________\nelu (ELU)                    (None, 128)               0         \n_________________________________________________________________\ndense_1 (Dense)              (None, 64)                8256      \n_________________________________________________________________\nelu_1 (ELU)                  (None, 64)                0         \n_________________________________________________________________\ndense_2 (Dense)              (None, 1)                 65        \n=================================================================\nTotal params: 18,946\nTrainable params: 9,473\nNon-trainable params: 9,473\n_________________________________________________________________\nModel: \"model_1\"\n_________________________________________________________________\nLayer (type)                 Output Shape              Param #   \n=================================================================\ninput_2 (InputLayer)         [(None, 4)]               0         \n_________________________________________________________________\ndense_3 (Dense)              (None, 128)               640       \n_________________________________________________________________\nelu_2 (ELU)                  (None, 128)               0         \n_________________________________________________________________\ndense_4 (Dense)              (None, 64)                8256      \n_________________________________________________________________\nelu_3 (ELU)                  (None, 64)                0         \n_________________________________________________________________\ndense_5 (Dense)              (None, 1)                 65        \n=================================================================\nTotal params: 17,922\nTrainable params: 8,961\nNon-trainable params: 8,961\n_________________________________________________________________\n"
    },
    {
     "output_type": "display_data",
     "data": {
      "text/plain": "[None, None, None]"
     },
     "metadata": {}
    }
   ],
   "source": [
    "display(autoencoder.summary())\n",
    "display([layer.summary() for layer in autoencoder.layers if isinstance(layer, Model)])"
   ]
  },
  {
   "cell_type": "code",
   "execution_count": 16,
   "metadata": {},
   "outputs": [],
   "source": [
    "batches = train_x.shape[0]\n",
    "batch_size=train_x.shape[1]\n",
    "\n",
    "losses_disc = []\n",
    "losses_disc_cat = []\n",
    "losses_ae = []\n",
    "losses_val = []\n",
    "\n",
    "real = np.ones((batch_size, 1))\n",
    "fake = np.zeros((batch_size, 1))"
   ]
  },
  {
   "cell_type": "code",
   "execution_count": 17,
   "metadata": {},
   "outputs": [],
   "source": [
    "def discriminator_training(discriminator, real, fake):\n",
    "    def train(real_samples, fake_samples):\n",
    "        discriminator.trainable = True\n",
    "\n",
    "        loss_real = discriminator.train_on_batch(real_samples, real)\n",
    "        loss_fake = discriminator.train_on_batch(fake_samples, fake)\n",
    "        loss = np.add(loss_real, loss_fake) * 0.5\n",
    "\n",
    "        discriminator.trainable = False\n",
    "\n",
    "        return loss\n",
    "    return train\n",
    "\n",
    "train_prior_discriminator = discriminator_training(prior_discriminator, real, fake)\n",
    "train_cat_discriminator = discriminator_training(cat_discriminator, real, fake)"
   ]
  },
  {
   "cell_type": "markdown",
   "metadata": {},
   "source": [
    "## Train the Model"
   ]
  },
  {
   "cell_type": "code",
   "execution_count": 18,
   "metadata": {
    "tags": []
   },
   "outputs": [
    {
     "output_type": "error",
     "ename": "NameError",
     "evalue": "name 'tqdm' is not defined",
     "traceback": [
      "\u001b[0;31m---------------------------------------------------------------------------\u001b[0m",
      "\u001b[0;31mNameError\u001b[0m                                 Traceback (most recent call last)",
      "\u001b[0;32m<ipython-input-18-0d6579407266>\u001b[0m in \u001b[0;36m<module>\u001b[0;34m\u001b[0m\n\u001b[0;32m----> 1\u001b[0;31m \u001b[0mpbar\u001b[0m \u001b[0;34m=\u001b[0m \u001b[0mtqdm\u001b[0m\u001b[0;34m(\u001b[0m\u001b[0mrange\u001b[0m\u001b[0;34m(\u001b[0m\u001b[0mbatches\u001b[0m\u001b[0;34m)\u001b[0m\u001b[0;34m)\u001b[0m\u001b[0;34m\u001b[0m\u001b[0;34m\u001b[0m\u001b[0m\n\u001b[0m\u001b[1;32m      2\u001b[0m \u001b[0;32mfor\u001b[0m \u001b[0m_\u001b[0m \u001b[0;32min\u001b[0m \u001b[0mpbar\u001b[0m\u001b[0;34m:\u001b[0m\u001b[0;34m\u001b[0m\u001b[0;34m\u001b[0m\u001b[0m\n\u001b[1;32m      3\u001b[0m \u001b[0;34m\u001b[0m\u001b[0m\n\u001b[1;32m      4\u001b[0m     \u001b[0mids\u001b[0m \u001b[0;34m=\u001b[0m \u001b[0mnp\u001b[0m\u001b[0;34m.\u001b[0m\u001b[0mrandom\u001b[0m\u001b[0;34m.\u001b[0m\u001b[0mrandint\u001b[0m\u001b[0;34m(\u001b[0m\u001b[0;36m0\u001b[0m\u001b[0;34m,\u001b[0m \u001b[0mtrain_x\u001b[0m\u001b[0;34m.\u001b[0m\u001b[0mshape\u001b[0m\u001b[0;34m[\u001b[0m\u001b[0;36m0\u001b[0m\u001b[0;34m]\u001b[0m\u001b[0;34m,\u001b[0m \u001b[0mbatch_size\u001b[0m\u001b[0;34m)\u001b[0m\u001b[0;34m\u001b[0m\u001b[0;34m\u001b[0m\u001b[0m\n\u001b[1;32m      5\u001b[0m     \u001b[0msignals\u001b[0m \u001b[0;34m=\u001b[0m \u001b[0mtrain_x\u001b[0m\u001b[0;34m[\u001b[0m\u001b[0mids\u001b[0m\u001b[0;34m]\u001b[0m\u001b[0;34m\u001b[0m\u001b[0;34m\u001b[0m\u001b[0m\n",
      "\u001b[0;31mNameError\u001b[0m: name 'tqdm' is not defined"
     ]
    }
   ],
   "source": [
    "pbar = tqdm(range(batches))\n",
    "for _ in pbar:\n",
    "  \n",
    "    ids = np.random.randint(0, train_x.shape[0], batch_size)\n",
    "    signals = train_x[ids]\n",
    "\n",
    "    _, latent_fake, category_fake, _ = encoder.predict(signals)\n",
    "\n",
    "    latent_real = lib.analysis.demo_sample_normal(latent_dim, batch_size)\n",
    "    category_real = lib.analysis.demo_sample_categories(cat_dim, batch_size)\n",
    "\n",
    "    prior_loss = train_prior_discriminator(latent_real, latent_fake)\n",
    "    cat_loss = train_cat_discriminator(category_real, category_fake)\n",
    "\n",
    "    losses_disc.append(prior_loss)\n",
    "    losses_disc_cat.append(cat_loss)\n",
    "\n",
    "    encoder_loss = autoencoder.train_on_batch(signals, [signals, real, real])\n",
    "    losses_ae.append(encoder_loss)\n",
    "\n",
    "    val_loss = autoencoder.test_on_batch(signals, [signals, real, real])\n",
    "    losses_val.append(val_loss)\n",
    "\n",
    "    pbar.set_description(\"[Acc. Prior/Cat: %.2f%% / %.2f%%] [MSE train/val: %f / %f]\" \n",
    "            % (100*prior_loss[1], 100*cat_loss[1], encoder_loss[1], val_loss[1]))"
   ]
  },
  {
   "cell_type": "code",
   "execution_count": 19,
   "metadata": {},
   "outputs": [
    {
     "output_type": "error",
     "ename": "NameError",
     "evalue": "name 'autoencoder' is not defined",
     "traceback": [
      "\u001b[0;31m---------------------------------------------------------------------------\u001b[0m",
      "\u001b[0;31mNameError\u001b[0m                                 Traceback (most recent call last)",
      "\u001b[0;32m<ipython-input-19-1878f0d690f0>\u001b[0m in \u001b[0;36m<module>\u001b[0;34m\u001b[0m\n\u001b[0;32m----> 1\u001b[0;31m \u001b[0mautoencoder\u001b[0m\u001b[0;34m.\u001b[0m\u001b[0msave_weights\u001b[0m\u001b[0;34m(\u001b[0m\u001b[0mstr\u001b[0m\u001b[0;34m(\u001b[0m\u001b[0mPath\u001b[0m\u001b[0;34m(\u001b[0m\u001b[0mfolderpath\u001b[0m\u001b[0;34m,\u001b[0m \u001b[0;34m'dl_gan'\u001b[0m\u001b[0;34m,\u001b[0m \u001b[0;34m'autoencoder_weights.hdf'\u001b[0m\u001b[0;34m)\u001b[0m\u001b[0;34m)\u001b[0m\u001b[0;34m)\u001b[0m\u001b[0;34m\u001b[0m\u001b[0;34m\u001b[0m\u001b[0m\n\u001b[0m\u001b[1;32m      2\u001b[0m \u001b[0mprior_discriminator\u001b[0m\u001b[0;34m.\u001b[0m\u001b[0msave_weights\u001b[0m\u001b[0;34m(\u001b[0m\u001b[0mstr\u001b[0m\u001b[0;34m(\u001b[0m\u001b[0mPath\u001b[0m\u001b[0;34m(\u001b[0m\u001b[0mfolderpath\u001b[0m\u001b[0;34m,\u001b[0m \u001b[0;34m'dl_gan'\u001b[0m\u001b[0;34m,\u001b[0m \u001b[0;34m'prior_discriminator_weights.hdf'\u001b[0m\u001b[0;34m)\u001b[0m\u001b[0;34m)\u001b[0m\u001b[0;34m)\u001b[0m\u001b[0;34m\u001b[0m\u001b[0;34m\u001b[0m\u001b[0m\n\u001b[1;32m      3\u001b[0m \u001b[0mcat_discriminator\u001b[0m\u001b[0;34m.\u001b[0m\u001b[0msave_weights\u001b[0m\u001b[0;34m(\u001b[0m\u001b[0mstr\u001b[0m\u001b[0;34m(\u001b[0m\u001b[0mPath\u001b[0m\u001b[0;34m(\u001b[0m\u001b[0mfolderpath\u001b[0m\u001b[0;34m,\u001b[0m \u001b[0;34m'dl_gan'\u001b[0m\u001b[0;34m,\u001b[0m \u001b[0;34m'cat_discriminator_weights.hdf'\u001b[0m\u001b[0;34m)\u001b[0m\u001b[0;34m)\u001b[0m\u001b[0;34m)\u001b[0m\u001b[0;34m\u001b[0m\u001b[0;34m\u001b[0m\u001b[0m\n\u001b[1;32m      4\u001b[0m \u001b[0mdf_train\u001b[0m\u001b[0;34m.\u001b[0m\u001b[0mto_parquet\u001b[0m\u001b[0;34m(\u001b[0m\u001b[0mPath\u001b[0m\u001b[0;34m(\u001b[0m\u001b[0mfolderpath\u001b[0m\u001b[0;34m,\u001b[0m \u001b[0;34m'dl_gan'\u001b[0m\u001b[0;34m,\u001b[0m \u001b[0;34m'train_dataframe.parquet'\u001b[0m\u001b[0;34m)\u001b[0m\u001b[0;34m)\u001b[0m\u001b[0;34m\u001b[0m\u001b[0;34m\u001b[0m\u001b[0m\n\u001b[1;32m      5\u001b[0m \u001b[0mnp\u001b[0m\u001b[0;34m.\u001b[0m\u001b[0msave\u001b[0m\u001b[0;34m(\u001b[0m\u001b[0mPath\u001b[0m\u001b[0;34m(\u001b[0m\u001b[0mfolderpath\u001b[0m\u001b[0;34m,\u001b[0m \u001b[0;34m'dl_gan'\u001b[0m\u001b[0;34m,\u001b[0m \u001b[0;34m'train_array.npy'\u001b[0m\u001b[0;34m)\u001b[0m\u001b[0;34m,\u001b[0m \u001b[0mtrain_x\u001b[0m\u001b[0;34m)\u001b[0m\u001b[0;34m\u001b[0m\u001b[0;34m\u001b[0m\u001b[0m\n",
      "\u001b[0;31mNameError\u001b[0m: name 'autoencoder' is not defined"
     ]
    }
   ],
   "source": [
    "autoencoder.save_weights(str(Path(folderpath, 'dl_gan', 'autoencoder_weights.hdf')))\n",
    "prior_discriminator.save_weights(str(Path(folderpath, 'dl_gan', 'prior_discriminator_weights.hdf')))\n",
    "cat_discriminator.save_weights(str(Path(folderpath, 'dl_gan', 'cat_discriminator_weights.hdf')))\n",
    "df_train.to_parquet(Path(folderpath, 'dl_gan', 'train_dataframe.parquet'))\n",
    "np.save(Path(folderpath, 'dl_gan', 'train_array.npy'), train_x)"
   ]
  },
  {
   "cell_type": "markdown",
   "metadata": {},
   "source": [
    "# Model performance"
   ]
  },
  {
   "cell_type": "code",
   "execution_count": 20,
   "metadata": {},
   "outputs": [
    {
     "output_type": "error",
     "ename": "NameError",
     "evalue": "name 'plt' is not defined",
     "traceback": [
      "\u001b[0;31m---------------------------------------------------------------------------\u001b[0m",
      "\u001b[0;31mNameError\u001b[0m                                 Traceback (most recent call last)",
      "\u001b[0;32m<ipython-input-20-eed0985bc1d8>\u001b[0m in \u001b[0;36m<module>\u001b[0;34m\u001b[0m\n\u001b[0;32m----> 1\u001b[0;31m \u001b[0mfig\u001b[0m\u001b[0;34m,\u001b[0m \u001b[0maxes\u001b[0m \u001b[0;34m=\u001b[0m \u001b[0mplt\u001b[0m\u001b[0;34m.\u001b[0m\u001b[0msubplots\u001b[0m\u001b[0;34m(\u001b[0m\u001b[0mnrows\u001b[0m\u001b[0;34m=\u001b[0m\u001b[0;36m1\u001b[0m\u001b[0;34m,\u001b[0m \u001b[0mncols\u001b[0m\u001b[0;34m=\u001b[0m\u001b[0;36m3\u001b[0m\u001b[0;34m)\u001b[0m\u001b[0;34m\u001b[0m\u001b[0;34m\u001b[0m\u001b[0m\n\u001b[0m\u001b[1;32m      2\u001b[0m \u001b[0mfig\u001b[0m\u001b[0;34m.\u001b[0m\u001b[0mset_size_inches\u001b[0m\u001b[0;34m(\u001b[0m\u001b[0;36m30\u001b[0m\u001b[0;34m,\u001b[0m \u001b[0;36m6\u001b[0m\u001b[0;34m)\u001b[0m\u001b[0;34m\u001b[0m\u001b[0;34m\u001b[0m\u001b[0m\n\u001b[1;32m      3\u001b[0m \u001b[0;34m\u001b[0m\u001b[0m\n\u001b[1;32m      4\u001b[0m \u001b[0maxes\u001b[0m\u001b[0;34m[\u001b[0m\u001b[0;36m0\u001b[0m\u001b[0;34m]\u001b[0m\u001b[0;34m.\u001b[0m\u001b[0mplot\u001b[0m\u001b[0;34m(\u001b[0m\u001b[0;34m[\u001b[0m\u001b[0mloss\u001b[0m\u001b[0;34m[\u001b[0m\u001b[0;36m1\u001b[0m\u001b[0;34m]\u001b[0m \u001b[0;32mfor\u001b[0m \u001b[0mloss\u001b[0m \u001b[0;32min\u001b[0m \u001b[0mlosses_disc\u001b[0m\u001b[0;34m]\u001b[0m\u001b[0;34m)\u001b[0m\u001b[0;34m\u001b[0m\u001b[0;34m\u001b[0m\u001b[0m\n\u001b[1;32m      5\u001b[0m \u001b[0maxes\u001b[0m\u001b[0;34m[\u001b[0m\u001b[0;36m1\u001b[0m\u001b[0;34m]\u001b[0m\u001b[0;34m.\u001b[0m\u001b[0mplot\u001b[0m\u001b[0;34m(\u001b[0m\u001b[0;34m[\u001b[0m\u001b[0mloss\u001b[0m\u001b[0;34m[\u001b[0m\u001b[0;36m1\u001b[0m\u001b[0;34m]\u001b[0m \u001b[0;32mfor\u001b[0m \u001b[0mloss\u001b[0m \u001b[0;32min\u001b[0m \u001b[0mlosses_disc_cat\u001b[0m\u001b[0;34m]\u001b[0m\u001b[0;34m)\u001b[0m\u001b[0;34m\u001b[0m\u001b[0;34m\u001b[0m\u001b[0m\n",
      "\u001b[0;31mNameError\u001b[0m: name 'plt' is not defined"
     ]
    }
   ],
   "source": [
    "fig, axes = plt.subplots(nrows=1, ncols=3)\n",
    "fig.set_size_inches(30, 6)\n",
    "\n",
    "axes[0].plot([loss[1] for loss in losses_disc])\n",
    "axes[1].plot([loss[1] for loss in losses_disc_cat])\n",
    "axes[2].plot([loss[1] for loss in losses_ae])\n",
    "axes[2].plot([loss[1] for loss in losses_val])\n",
    "\n",
    "axes[0].set_title('error: prior discriminator')\n",
    "axes[1].set_title('error: category discriminator')\n",
    "axes[2].set_title('error: auto-encoder')\n",
    "\n",
    "fig.show()"
   ]
  },
  {
   "cell_type": "markdown",
   "metadata": {},
   "source": [
    "## Small example\n",
    "\n",
    "Here we show what the model does inside with on from left to right:\n",
    "\n",
    "1. the input\n",
    "2. the encoded time-serie\n",
    "3. the cluster labeling\n",
    "4. the decoded output\n",
    "5. the error between decoded and input"
   ]
  },
  {
   "cell_type": "code",
   "execution_count": 21,
   "metadata": {},
   "outputs": [
    {
     "output_type": "error",
     "ename": "NameError",
     "evalue": "name 'plt' is not defined",
     "traceback": [
      "\u001b[0;31m---------------------------------------------------------------------------\u001b[0m",
      "\u001b[0;31mNameError\u001b[0m                                 Traceback (most recent call last)",
      "\u001b[0;32m<ipython-input-21-bb3d61c1f17c>\u001b[0m in \u001b[0;36m<module>\u001b[0;34m\u001b[0m\n\u001b[1;32m      1\u001b[0m \u001b[0mtest_batch\u001b[0m \u001b[0;34m=\u001b[0m \u001b[0;36m5\u001b[0m\u001b[0;34m\u001b[0m\u001b[0;34m\u001b[0m\u001b[0m\n\u001b[1;32m      2\u001b[0m \u001b[0;34m\u001b[0m\u001b[0m\n\u001b[0;32m----> 3\u001b[0;31m \u001b[0mfig\u001b[0m\u001b[0;34m,\u001b[0m \u001b[0maxes\u001b[0m \u001b[0;34m=\u001b[0m \u001b[0mplt\u001b[0m\u001b[0;34m.\u001b[0m\u001b[0msubplots\u001b[0m\u001b[0;34m(\u001b[0m\u001b[0mnrows\u001b[0m\u001b[0;34m=\u001b[0m\u001b[0mtest_batch\u001b[0m\u001b[0;34m,\u001b[0m \u001b[0mncols\u001b[0m\u001b[0;34m=\u001b[0m\u001b[0;36m5\u001b[0m\u001b[0;34m)\u001b[0m\u001b[0;34m\u001b[0m\u001b[0;34m\u001b[0m\u001b[0m\n\u001b[0m\u001b[1;32m      4\u001b[0m \u001b[0mfig\u001b[0m\u001b[0;34m.\u001b[0m\u001b[0mset_size_inches\u001b[0m\u001b[0;34m(\u001b[0m\u001b[0;36m20\u001b[0m\u001b[0;34m,\u001b[0m \u001b[0;36m3\u001b[0m \u001b[0;34m*\u001b[0m \u001b[0mtest_batch\u001b[0m\u001b[0;34m)\u001b[0m\u001b[0;34m\u001b[0m\u001b[0;34m\u001b[0m\u001b[0m\n\u001b[1;32m      5\u001b[0m \u001b[0;34m\u001b[0m\u001b[0m\n",
      "\u001b[0;31mNameError\u001b[0m: name 'plt' is not defined"
     ]
    }
   ],
   "source": [
    "test_batch = 5\n",
    "\n",
    "fig, axes = plt.subplots(nrows=test_batch, ncols=5)\n",
    "fig.set_size_inches(20, 3 * test_batch)\n",
    "\n",
    "random_batch = np.random.randint(len(test_x), size=test_batch)\n",
    "(dec, rep, cat, error) = encoder.predict(test_x[random_batch])\n",
    "\n",
    "for i in range(test_batch):\n",
    "    axes[i,0].plot(test_x[i])\n",
    "    axes[i,1].imshow(rep[i].reshape(8,4))\n",
    "    axes[i,2].imshow(cat[i].reshape(cat_dim, 1))\n",
    "    axes[i,3].plot(dec[i])\n",
    "    axes[i,4].plot(error[i])\n",
    "\n",
    "fig.show()"
   ]
  },
  {
   "cell_type": "markdown",
   "metadata": {},
   "source": [
    "## Cluster verification"
   ]
  },
  {
   "cell_type": "code",
   "execution_count": 22,
   "metadata": {},
   "outputs": [
    {
     "output_type": "error",
     "ename": "NameError",
     "evalue": "name 'encoder' is not defined",
     "traceback": [
      "\u001b[0;31m---------------------------------------------------------------------------\u001b[0m",
      "\u001b[0;31mNameError\u001b[0m                                 Traceback (most recent call last)",
      "\u001b[0;32m<ipython-input-22-a329eb9c094d>\u001b[0m in \u001b[0;36m<module>\u001b[0;34m\u001b[0m\n\u001b[0;32m----> 1\u001b[0;31m \u001b[0;34m(\u001b[0m\u001b[0mdec\u001b[0m\u001b[0;34m,\u001b[0m \u001b[0mrep\u001b[0m\u001b[0;34m,\u001b[0m \u001b[0mcat\u001b[0m\u001b[0;34m,\u001b[0m \u001b[0merror\u001b[0m\u001b[0;34m)\u001b[0m \u001b[0;34m=\u001b[0m \u001b[0mencoder\u001b[0m\u001b[0;34m.\u001b[0m\u001b[0mpredict\u001b[0m\u001b[0;34m(\u001b[0m\u001b[0mdata_x\u001b[0m\u001b[0;34m)\u001b[0m\u001b[0;34m\u001b[0m\u001b[0;34m\u001b[0m\u001b[0m\n\u001b[0m",
      "\u001b[0;31mNameError\u001b[0m: name 'encoder' is not defined"
     ]
    }
   ],
   "source": [
    "(dec, rep, cat, error) = encoder.predict(data_x)"
   ]
  },
  {
   "cell_type": "code",
   "execution_count": 23,
   "metadata": {},
   "outputs": [
    {
     "output_type": "error",
     "ename": "NameError",
     "evalue": "name 'cat' is not defined",
     "traceback": [
      "\u001b[0;31m---------------------------------------------------------------------------\u001b[0m",
      "\u001b[0;31mNameError\u001b[0m                                 Traceback (most recent call last)",
      "\u001b[0;32m<ipython-input-23-d0f6744b0e1a>\u001b[0m in \u001b[0;36m<module>\u001b[0;34m\u001b[0m\n\u001b[1;32m      1\u001b[0m \u001b[0;32mfrom\u001b[0m \u001b[0mcollections\u001b[0m \u001b[0;32mimport\u001b[0m \u001b[0mCounter\u001b[0m\u001b[0;34m\u001b[0m\u001b[0;34m\u001b[0m\u001b[0m\n\u001b[1;32m      2\u001b[0m \u001b[0;34m\u001b[0m\u001b[0m\n\u001b[0;32m----> 3\u001b[0;31m \u001b[0mcategories\u001b[0m \u001b[0;34m=\u001b[0m \u001b[0;34m[\u001b[0m\u001b[0mnp\u001b[0m\u001b[0;34m.\u001b[0m\u001b[0margmax\u001b[0m\u001b[0;34m(\u001b[0m\u001b[0mitem\u001b[0m\u001b[0;34m)\u001b[0m \u001b[0;32mfor\u001b[0m \u001b[0mitem\u001b[0m \u001b[0;32min\u001b[0m \u001b[0mcat\u001b[0m\u001b[0;34m]\u001b[0m\u001b[0;34m\u001b[0m\u001b[0;34m\u001b[0m\u001b[0m\n\u001b[0m\u001b[1;32m      4\u001b[0m \u001b[0mcounts\u001b[0m \u001b[0;34m=\u001b[0m \u001b[0mCounter\u001b[0m\u001b[0;34m(\u001b[0m\u001b[0mcategories\u001b[0m\u001b[0;34m)\u001b[0m\u001b[0;34m\u001b[0m\u001b[0;34m\u001b[0m\u001b[0m\n\u001b[1;32m      5\u001b[0m \u001b[0mprint\u001b[0m\u001b[0;34m(\u001b[0m\u001b[0mcounts\u001b[0m\u001b[0;34m)\u001b[0m\u001b[0;34m\u001b[0m\u001b[0;34m\u001b[0m\u001b[0m\n",
      "\u001b[0;31mNameError\u001b[0m: name 'cat' is not defined"
     ]
    }
   ],
   "source": [
    "from collections import Counter\n",
    "\n",
    "categories = [np.argmax(item) for item in cat]\n",
    "counts = Counter(categories)\n",
    "print(counts)\n",
    "\n",
    "labels, count = zip(*counts.items())\n",
    "\n",
    "plt.figure(figsize=(14,7))\n",
    "plt.title('cluster reparition')\n",
    "plt.bar(labels, count)\n",
    "plt.show()"
   ]
  },
  {
   "cell_type": "markdown",
   "metadata": {},
   "source": [
    "### Pad sequence verification\n",
    "\n",
    "Because I pad the sequences, I make sure that the GAN did not cluster by event length."
   ]
  },
  {
   "cell_type": "code",
   "execution_count": 24,
   "metadata": {},
   "outputs": [
    {
     "output_type": "error",
     "ename": "NameError",
     "evalue": "name 'categories' is not defined",
     "traceback": [
      "\u001b[0;31m---------------------------------------------------------------------------\u001b[0m",
      "\u001b[0;31mNameError\u001b[0m                                 Traceback (most recent call last)",
      "\u001b[0;32m<ipython-input-24-bfbba9eadad1>\u001b[0m in \u001b[0;36m<module>\u001b[0;34m\u001b[0m\n\u001b[1;32m      1\u001b[0m corner = pd.concat([\n\u001b[1;32m      2\u001b[0m     \u001b[0mdf\u001b[0m\u001b[0;34m.\u001b[0m\u001b[0mgroupby\u001b[0m\u001b[0;34m(\u001b[0m\u001b[0msplit_by\u001b[0m\u001b[0;34m)\u001b[0m\u001b[0;34m[\u001b[0m\u001b[0msplit_by\u001b[0m\u001b[0;34m]\u001b[0m\u001b[0;34m.\u001b[0m\u001b[0mcount\u001b[0m\u001b[0;34m(\u001b[0m\u001b[0;34m)\u001b[0m\u001b[0;34m.\u001b[0m\u001b[0mrename\u001b[0m\u001b[0;34m(\u001b[0m\u001b[0;34m'count'\u001b[0m\u001b[0;34m)\u001b[0m\u001b[0;34m,\u001b[0m\u001b[0;34m\u001b[0m\u001b[0;34m\u001b[0m\u001b[0m\n\u001b[0;32m----> 3\u001b[0;31m     \u001b[0mpd\u001b[0m\u001b[0;34m.\u001b[0m\u001b[0mSeries\u001b[0m\u001b[0;34m(\u001b[0m\u001b[0mcategories\u001b[0m\u001b[0;34m,\u001b[0m \u001b[0mindex\u001b[0m\u001b[0;34m=\u001b[0m\u001b[0mdataset\u001b[0m\u001b[0;34m.\u001b[0m\u001b[0mindex\u001b[0m\u001b[0;34m,\u001b[0m \u001b[0mname\u001b[0m\u001b[0;34m=\u001b[0m\u001b[0;34m'cluster'\u001b[0m\u001b[0;34m)\u001b[0m\u001b[0;34m\u001b[0m\u001b[0;34m\u001b[0m\u001b[0m\n\u001b[0m\u001b[1;32m      4\u001b[0m ], axis=1)\n\u001b[1;32m      5\u001b[0m \u001b[0;34m\u001b[0m\u001b[0m\n",
      "\u001b[0;31mNameError\u001b[0m: name 'categories' is not defined"
     ]
    }
   ],
   "source": [
    "corner = pd.concat([\n",
    "    df.groupby(split_by)[split_by].count().rename('count'),\n",
    "    pd.Series(categories, index=dataset.index, name='cluster')\n",
    "], axis=1)\n",
    "\n",
    "g = sns.FacetGrid(corner, hue=\"cluster\", height=7, aspect=2)\n",
    "g = g.map(sns.distplot, \"count\", hist_kws=dict(alpha=0.2))\n",
    "\n",
    "corner['count'].hist(by=corner['cluster'], sharey=True, figsize=(14, 7))"
   ]
  },
  {
   "cell_type": "markdown",
   "metadata": {},
   "source": [
    "# Data Visualisation"
   ]
  },
  {
   "cell_type": "markdown",
   "metadata": {},
   "source": [
    "## 2D plots with T-SNE and UMAP\n",
    "\n",
    "First plot is from encoded data and second is the input data\n",
    "We expect the decoded 2D plot to be more relevant as the GAN is supposed to extract the \"essence\" of each sequence"
   ]
  },
  {
   "cell_type": "markdown",
   "metadata": {},
   "source": [
    "### T-SNE"
   ]
  },
  {
   "cell_type": "code",
   "execution_count": 25,
   "metadata": {},
   "outputs": [
    {
     "output_type": "error",
     "ename": "NameError",
     "evalue": "name 'plt' is not defined",
     "traceback": [
      "\u001b[0;31m---------------------------------------------------------------------------\u001b[0m",
      "\u001b[0;31mNameError\u001b[0m                                 Traceback (most recent call last)",
      "\u001b[0;32m<ipython-input-25-80b69c43de5b>\u001b[0m in \u001b[0;36m<module>\u001b[0;34m\u001b[0m\n\u001b[1;32m      1\u001b[0m \u001b[0;32mfrom\u001b[0m \u001b[0msklearn\u001b[0m\u001b[0;34m.\u001b[0m\u001b[0mmanifold\u001b[0m \u001b[0;32mimport\u001b[0m \u001b[0mTSNE\u001b[0m\u001b[0;34m\u001b[0m\u001b[0;34m\u001b[0m\u001b[0m\n\u001b[1;32m      2\u001b[0m \u001b[0;34m\u001b[0m\u001b[0m\n\u001b[0;32m----> 3\u001b[0;31m \u001b[0mfig\u001b[0m\u001b[0;34m,\u001b[0m \u001b[0maxes\u001b[0m \u001b[0;34m=\u001b[0m \u001b[0mplt\u001b[0m\u001b[0;34m.\u001b[0m\u001b[0msubplots\u001b[0m\u001b[0;34m(\u001b[0m\u001b[0mnrows\u001b[0m\u001b[0;34m=\u001b[0m\u001b[0;36m1\u001b[0m\u001b[0;34m,\u001b[0m \u001b[0mncols\u001b[0m\u001b[0;34m=\u001b[0m\u001b[0;36m3\u001b[0m\u001b[0;34m)\u001b[0m\u001b[0;34m\u001b[0m\u001b[0;34m\u001b[0m\u001b[0m\n\u001b[0m\u001b[1;32m      4\u001b[0m \u001b[0mfig\u001b[0m\u001b[0;34m.\u001b[0m\u001b[0mset_size_inches\u001b[0m\u001b[0;34m(\u001b[0m\u001b[0;36m30\u001b[0m\u001b[0;34m,\u001b[0m\u001b[0;36m7\u001b[0m\u001b[0;34m)\u001b[0m\u001b[0;34m\u001b[0m\u001b[0;34m\u001b[0m\u001b[0m\n\u001b[1;32m      5\u001b[0m \u001b[0;34m\u001b[0m\u001b[0m\n",
      "\u001b[0;31mNameError\u001b[0m: name 'plt' is not defined"
     ]
    }
   ],
   "source": [
    "from sklearn.manifold import TSNE\n",
    "\n",
    "fig, axes = plt.subplots(nrows=1, ncols=3)\n",
    "fig.set_size_inches(30,7)\n",
    "\n",
    "X = TSNE(n_components=2, perplexity=10).fit_transform(rep)\n",
    "\n",
    "axes[0].scatter([x[0] for x in X], [x[1] for x in X], c=categories, cmap='Set1')\n",
    "\n",
    "X = TSNE(n_components=2, perplexity=30).fit_transform(rep)\n",
    "\n",
    "axes[1].scatter([x[0] for x in X], [x[1] for x in X], c=categories, cmap='Set1')\n",
    "\n",
    "X = TSNE(n_components=2, perplexity=50).fit_transform(rep)\n",
    "\n",
    "axes[2].scatter([x[0] for x in X], [x[1] for x in X], c=categories, cmap='Set1')\n",
    "\n",
    "fig.show()"
   ]
  },
  {
   "cell_type": "code",
   "execution_count": 26,
   "metadata": {},
   "outputs": [
    {
     "output_type": "error",
     "ename": "NameError",
     "evalue": "name 'plt' is not defined",
     "traceback": [
      "\u001b[0;31m---------------------------------------------------------------------------\u001b[0m",
      "\u001b[0;31mNameError\u001b[0m                                 Traceback (most recent call last)",
      "\u001b[0;32m<ipython-input-26-a3c4de2290e8>\u001b[0m in \u001b[0;36m<module>\u001b[0;34m\u001b[0m\n\u001b[1;32m      1\u001b[0m \u001b[0;32mfrom\u001b[0m \u001b[0msklearn\u001b[0m\u001b[0;34m.\u001b[0m\u001b[0mmanifold\u001b[0m \u001b[0;32mimport\u001b[0m \u001b[0mTSNE\u001b[0m\u001b[0;34m\u001b[0m\u001b[0;34m\u001b[0m\u001b[0m\n\u001b[1;32m      2\u001b[0m \u001b[0;34m\u001b[0m\u001b[0m\n\u001b[0;32m----> 3\u001b[0;31m \u001b[0mfig\u001b[0m\u001b[0;34m,\u001b[0m \u001b[0maxes\u001b[0m \u001b[0;34m=\u001b[0m \u001b[0mplt\u001b[0m\u001b[0;34m.\u001b[0m\u001b[0msubplots\u001b[0m\u001b[0;34m(\u001b[0m\u001b[0mnrows\u001b[0m\u001b[0;34m=\u001b[0m\u001b[0;36m1\u001b[0m\u001b[0;34m,\u001b[0m \u001b[0mncols\u001b[0m\u001b[0;34m=\u001b[0m\u001b[0;36m3\u001b[0m\u001b[0;34m)\u001b[0m\u001b[0;34m\u001b[0m\u001b[0;34m\u001b[0m\u001b[0m\n\u001b[0m\u001b[1;32m      4\u001b[0m \u001b[0mfig\u001b[0m\u001b[0;34m.\u001b[0m\u001b[0mset_size_inches\u001b[0m\u001b[0;34m(\u001b[0m\u001b[0;36m30\u001b[0m\u001b[0;34m,\u001b[0m\u001b[0;36m7\u001b[0m\u001b[0;34m)\u001b[0m\u001b[0;34m\u001b[0m\u001b[0;34m\u001b[0m\u001b[0m\n\u001b[1;32m      5\u001b[0m \u001b[0;34m\u001b[0m\u001b[0m\n",
      "\u001b[0;31mNameError\u001b[0m: name 'plt' is not defined"
     ]
    }
   ],
   "source": [
    "from sklearn.manifold import TSNE\n",
    "\n",
    "fig, axes = plt.subplots(nrows=1, ncols=3)\n",
    "fig.set_size_inches(30,7)\n",
    "\n",
    "input_data = data_x.reshape(data_x.shape[0], data_x.shape[1] * data_x.shape[2])\n",
    "\n",
    "X = TSNE(n_components=2, perplexity=10).fit_transform(input_data)\n",
    "\n",
    "axes[0].scatter([x[0] for x in X], [x[1] for x in X], c=categories, cmap='Set1')\n",
    "\n",
    "X = TSNE(n_components=2, perplexity=30).fit_transform(input_data)\n",
    "\n",
    "axes[1].scatter([x[0] for x in X], [x[1] for x in X], c=categories, cmap='Set1')\n",
    "\n",
    "X = TSNE(n_components=2, perplexity=50).fit_transform(input_data)\n",
    "\n",
    "axes[2].scatter([x[0] for x in X], [x[1] for x in X], c=categories, cmap='Set1')"
   ]
  },
  {
   "cell_type": "markdown",
   "metadata": {},
   "source": [
    "### UMAP"
   ]
  },
  {
   "cell_type": "code",
   "execution_count": 27,
   "metadata": {},
   "outputs": [
    {
     "output_type": "error",
     "ename": "NameError",
     "evalue": "name 'plt' is not defined",
     "traceback": [
      "\u001b[0;31m---------------------------------------------------------------------------\u001b[0m",
      "\u001b[0;31mNameError\u001b[0m                                 Traceback (most recent call last)",
      "\u001b[0;32m<ipython-input-27-adc6d7ee6be6>\u001b[0m in \u001b[0;36m<module>\u001b[0;34m\u001b[0m\n\u001b[1;32m      1\u001b[0m \u001b[0;32mfrom\u001b[0m \u001b[0mumap\u001b[0m \u001b[0;32mimport\u001b[0m \u001b[0mUMAP\u001b[0m\u001b[0;34m\u001b[0m\u001b[0;34m\u001b[0m\u001b[0m\n\u001b[1;32m      2\u001b[0m \u001b[0;34m\u001b[0m\u001b[0m\n\u001b[0;32m----> 3\u001b[0;31m \u001b[0mfig\u001b[0m\u001b[0;34m,\u001b[0m \u001b[0maxes\u001b[0m \u001b[0;34m=\u001b[0m \u001b[0mplt\u001b[0m\u001b[0;34m.\u001b[0m\u001b[0msubplots\u001b[0m\u001b[0;34m(\u001b[0m\u001b[0mnrows\u001b[0m\u001b[0;34m=\u001b[0m\u001b[0;36m1\u001b[0m\u001b[0;34m,\u001b[0m \u001b[0mncols\u001b[0m\u001b[0;34m=\u001b[0m\u001b[0;36m3\u001b[0m\u001b[0;34m)\u001b[0m\u001b[0;34m\u001b[0m\u001b[0;34m\u001b[0m\u001b[0m\n\u001b[0m\u001b[1;32m      4\u001b[0m \u001b[0mfig\u001b[0m\u001b[0;34m.\u001b[0m\u001b[0mset_size_inches\u001b[0m\u001b[0;34m(\u001b[0m\u001b[0;36m30\u001b[0m\u001b[0;34m,\u001b[0m\u001b[0;36m7\u001b[0m\u001b[0;34m)\u001b[0m\u001b[0;34m\u001b[0m\u001b[0;34m\u001b[0m\u001b[0m\n\u001b[1;32m      5\u001b[0m \u001b[0;34m\u001b[0m\u001b[0m\n",
      "\u001b[0;31mNameError\u001b[0m: name 'plt' is not defined"
     ]
    }
   ],
   "source": [
    "from umap import UMAP\n",
    "\n",
    "fig, axes = plt.subplots(nrows=1, ncols=3)\n",
    "fig.set_size_inches(30,7)\n",
    "\n",
    "X = UMAP(n_neighbors=15).fit_transform(rep)\n",
    "\n",
    "axes[0].scatter([x[0] for x in X], [x[1] for x in X], c=categories, cmap='Set1')\n",
    "\n",
    "X = UMAP(n_neighbors=50).fit_transform(rep)\n",
    "\n",
    "axes[1].scatter([x[0] for x in X], [x[1] for x in X], c=categories, cmap='Set1')\n",
    "\n",
    "X = UMAP(n_neighbors=100).fit_transform(rep)\n",
    "\n",
    "axes[2].scatter([x[0] for x in X], [x[1] for x in X], c=categories, cmap='Set1')\n",
    "\n",
    "fig.show()"
   ]
  },
  {
   "cell_type": "code",
   "execution_count": 28,
   "metadata": {},
   "outputs": [
    {
     "output_type": "error",
     "ename": "NameError",
     "evalue": "name 'plt' is not defined",
     "traceback": [
      "\u001b[0;31m---------------------------------------------------------------------------\u001b[0m",
      "\u001b[0;31mNameError\u001b[0m                                 Traceback (most recent call last)",
      "\u001b[0;32m<ipython-input-28-5f4b6c1a4af4>\u001b[0m in \u001b[0;36m<module>\u001b[0;34m\u001b[0m\n\u001b[1;32m      1\u001b[0m \u001b[0;32mfrom\u001b[0m \u001b[0mumap\u001b[0m \u001b[0;32mimport\u001b[0m \u001b[0mUMAP\u001b[0m\u001b[0;34m\u001b[0m\u001b[0;34m\u001b[0m\u001b[0m\n\u001b[1;32m      2\u001b[0m \u001b[0;34m\u001b[0m\u001b[0m\n\u001b[0;32m----> 3\u001b[0;31m \u001b[0mfig\u001b[0m\u001b[0;34m,\u001b[0m \u001b[0maxes\u001b[0m \u001b[0;34m=\u001b[0m \u001b[0mplt\u001b[0m\u001b[0;34m.\u001b[0m\u001b[0msubplots\u001b[0m\u001b[0;34m(\u001b[0m\u001b[0mnrows\u001b[0m\u001b[0;34m=\u001b[0m\u001b[0;36m1\u001b[0m\u001b[0;34m,\u001b[0m \u001b[0mncols\u001b[0m\u001b[0;34m=\u001b[0m\u001b[0;36m3\u001b[0m\u001b[0;34m)\u001b[0m\u001b[0;34m\u001b[0m\u001b[0;34m\u001b[0m\u001b[0m\n\u001b[0m\u001b[1;32m      4\u001b[0m \u001b[0mfig\u001b[0m\u001b[0;34m.\u001b[0m\u001b[0mset_size_inches\u001b[0m\u001b[0;34m(\u001b[0m\u001b[0;36m30\u001b[0m\u001b[0;34m,\u001b[0m\u001b[0;36m7\u001b[0m\u001b[0;34m)\u001b[0m\u001b[0;34m\u001b[0m\u001b[0;34m\u001b[0m\u001b[0m\n\u001b[1;32m      5\u001b[0m \u001b[0;34m\u001b[0m\u001b[0m\n",
      "\u001b[0;31mNameError\u001b[0m: name 'plt' is not defined"
     ]
    }
   ],
   "source": [
    "from umap import UMAP\n",
    "\n",
    "fig, axes = plt.subplots(nrows=1, ncols=3)\n",
    "fig.set_size_inches(30,7)\n",
    "\n",
    "input_data = data_x.reshape(data_x.shape[0], data_x.shape[1] * data_x.shape[2])\n",
    "\n",
    "X = UMAP(n_neighbors=15).fit_transform(input_data)\n",
    "\n",
    "axes[0].scatter([x[0] for x in X], [x[1] for x in X], c=categories, cmap='Set1')\n",
    "\n",
    "X = UMAP(n_neighbors=50).fit_transform(input_data)\n",
    "\n",
    "axes[1].scatter([x[0] for x in X], [x[1] for x in X], c=categories, cmap='Set1')\n",
    "\n",
    "X = UMAP(n_neighbors=100).fit_transform(input_data)\n",
    "\n",
    "axes[2].scatter([x[0] for x in X], [x[1] for x in X], c=categories, cmap='Set1')\n",
    "\n",
    "fig.show()"
   ]
  },
  {
   "cell_type": "markdown",
   "metadata": {},
   "source": [
    "## Line-plots\n",
    "\n",
    "Here the sequence are plotted from their inputs by cluster, on X it is the time per event in percentage.\n",
    "This helps verify that the clusters make sense (after an human review)"
   ]
  },
  {
   "cell_type": "code",
   "execution_count": 29,
   "metadata": {},
   "outputs": [
    {
     "output_type": "execute_result",
     "data": {
      "text/plain": "           gx        gy        yr      speed     distx     disty  time_event  \\\n432 -3.173005 -1.225342 -0.035029  89.821667  0.000000  0.000000         0.0   \n433 -4.212635 -3.131816 -0.036633  89.878333  2.489985 -0.165673         0.1   \n434 -1.371846 -3.034051 -0.036860  89.935000  4.978942 -0.370911         0.2   \n435  1.036075 -1.645751 -0.033204  89.991667  7.471727 -0.544134         0.3   \n436 -0.447022 -0.767433 -0.030044  90.048333  9.969128 -0.668316         0.4   \n\n                         corner_select  time_event_norm  \n432  12km-D5-AGGRESSIVE-SECONDARY19x31         0.000000  \n433  12km-D5-AGGRESSIVE-SECONDARY19x31         0.001724  \n434  12km-D5-AGGRESSIVE-SECONDARY19x31         0.003448  \n435  12km-D5-AGGRESSIVE-SECONDARY19x31         0.005172  \n436  12km-D5-AGGRESSIVE-SECONDARY19x31         0.006897  ",
      "text/html": "<div>\n<style scoped>\n    .dataframe tbody tr th:only-of-type {\n        vertical-align: middle;\n    }\n\n    .dataframe tbody tr th {\n        vertical-align: top;\n    }\n\n    .dataframe thead th {\n        text-align: right;\n    }\n</style>\n<table border=\"1\" class=\"dataframe\">\n  <thead>\n    <tr style=\"text-align: right;\">\n      <th></th>\n      <th>gx</th>\n      <th>gy</th>\n      <th>yr</th>\n      <th>speed</th>\n      <th>distx</th>\n      <th>disty</th>\n      <th>time_event</th>\n      <th>corner_select</th>\n      <th>time_event_norm</th>\n    </tr>\n  </thead>\n  <tbody>\n    <tr>\n      <th>432</th>\n      <td>-3.173005</td>\n      <td>-1.225342</td>\n      <td>-0.035029</td>\n      <td>89.821667</td>\n      <td>0.000000</td>\n      <td>0.000000</td>\n      <td>0.0</td>\n      <td>12km-D5-AGGRESSIVE-SECONDARY19x31</td>\n      <td>0.000000</td>\n    </tr>\n    <tr>\n      <th>433</th>\n      <td>-4.212635</td>\n      <td>-3.131816</td>\n      <td>-0.036633</td>\n      <td>89.878333</td>\n      <td>2.489985</td>\n      <td>-0.165673</td>\n      <td>0.1</td>\n      <td>12km-D5-AGGRESSIVE-SECONDARY19x31</td>\n      <td>0.001724</td>\n    </tr>\n    <tr>\n      <th>434</th>\n      <td>-1.371846</td>\n      <td>-3.034051</td>\n      <td>-0.036860</td>\n      <td>89.935000</td>\n      <td>4.978942</td>\n      <td>-0.370911</td>\n      <td>0.2</td>\n      <td>12km-D5-AGGRESSIVE-SECONDARY19x31</td>\n      <td>0.003448</td>\n    </tr>\n    <tr>\n      <th>435</th>\n      <td>1.036075</td>\n      <td>-1.645751</td>\n      <td>-0.033204</td>\n      <td>89.991667</td>\n      <td>7.471727</td>\n      <td>-0.544134</td>\n      <td>0.3</td>\n      <td>12km-D5-AGGRESSIVE-SECONDARY19x31</td>\n      <td>0.005172</td>\n    </tr>\n    <tr>\n      <th>436</th>\n      <td>-0.447022</td>\n      <td>-0.767433</td>\n      <td>-0.030044</td>\n      <td>90.048333</td>\n      <td>9.969128</td>\n      <td>-0.668316</td>\n      <td>0.4</td>\n      <td>12km-D5-AGGRESSIVE-SECONDARY19x31</td>\n      <td>0.006897</td>\n    </tr>\n  </tbody>\n</table>\n</div>"
     },
     "metadata": {},
     "execution_count": 29
    }
   ],
   "source": [
    "df['time_event_norm'] = df.groupby(split_by)['time_event'].apply(\n",
    "    lambda x: x / x.max()\n",
    ")\n",
    "df.head()"
   ]
  },
  {
   "cell_type": "code",
   "execution_count": 30,
   "metadata": {},
   "outputs": [
    {
     "output_type": "error",
     "ename": "NameError",
     "evalue": "name 'plt' is not defined",
     "traceback": [
      "\u001b[0;31m---------------------------------------------------------------------------\u001b[0m",
      "\u001b[0;31mNameError\u001b[0m                                 Traceback (most recent call last)",
      "\u001b[0;32m<ipython-input-30-5d2f1795c5e1>\u001b[0m in \u001b[0;36m<module>\u001b[0;34m\u001b[0m\n\u001b[0;32m----> 1\u001b[0;31m \u001b[0mfig\u001b[0m\u001b[0;34m,\u001b[0m \u001b[0maxes\u001b[0m \u001b[0;34m=\u001b[0m \u001b[0mplt\u001b[0m\u001b[0;34m.\u001b[0m\u001b[0msubplots\u001b[0m\u001b[0;34m(\u001b[0m\u001b[0mncols\u001b[0m\u001b[0;34m=\u001b[0m\u001b[0mmax\u001b[0m\u001b[0;34m(\u001b[0m\u001b[0mlabels\u001b[0m\u001b[0;34m)\u001b[0m\u001b[0;34m+\u001b[0m\u001b[0;36m1\u001b[0m\u001b[0;34m,\u001b[0m \u001b[0mnrows\u001b[0m\u001b[0;34m=\u001b[0m\u001b[0;36m3\u001b[0m\u001b[0;34m,\u001b[0m \u001b[0mfigsize\u001b[0m\u001b[0;34m=\u001b[0m\u001b[0;34m(\u001b[0m\u001b[0;36m30\u001b[0m\u001b[0;34m,\u001b[0m \u001b[0;36m10\u001b[0m\u001b[0;34m)\u001b[0m\u001b[0;34m,\u001b[0m \u001b[0msharey\u001b[0m\u001b[0;34m=\u001b[0m\u001b[0;34m'row'\u001b[0m\u001b[0;34m)\u001b[0m\u001b[0;34m\u001b[0m\u001b[0;34m\u001b[0m\u001b[0m\n\u001b[0m\u001b[1;32m      2\u001b[0m \u001b[0;34m\u001b[0m\u001b[0m\n\u001b[1;32m      3\u001b[0m \u001b[0;32mfor\u001b[0m \u001b[0mcluster\u001b[0m \u001b[0;32min\u001b[0m \u001b[0msorted\u001b[0m\u001b[0;34m(\u001b[0m\u001b[0mlabels\u001b[0m\u001b[0;34m)\u001b[0m\u001b[0;34m:\u001b[0m\u001b[0;34m\u001b[0m\u001b[0;34m\u001b[0m\u001b[0m\n\u001b[1;32m      4\u001b[0m     \u001b[0mevents\u001b[0m \u001b[0;34m=\u001b[0m \u001b[0mdataset\u001b[0m\u001b[0;34m.\u001b[0m\u001b[0mindex\u001b[0m\u001b[0;34m[\u001b[0m\u001b[0;34m[\u001b[0m\u001b[0mc\u001b[0m \u001b[0;34m==\u001b[0m \u001b[0mcluster\u001b[0m \u001b[0;32mfor\u001b[0m \u001b[0mc\u001b[0m \u001b[0;32min\u001b[0m \u001b[0mcategories\u001b[0m\u001b[0;34m]\u001b[0m\u001b[0;34m]\u001b[0m\u001b[0;34m\u001b[0m\u001b[0;34m\u001b[0m\u001b[0m\n\u001b[1;32m      5\u001b[0m     \u001b[0;32mif\u001b[0m \u001b[0;32mnot\u001b[0m\u001b[0;34m(\u001b[0m\u001b[0many\u001b[0m\u001b[0;34m(\u001b[0m\u001b[0mevents\u001b[0m\u001b[0;34m)\u001b[0m\u001b[0;34m)\u001b[0m\u001b[0;34m:\u001b[0m\u001b[0;34m\u001b[0m\u001b[0;34m\u001b[0m\u001b[0m\n",
      "\u001b[0;31mNameError\u001b[0m: name 'plt' is not defined"
     ]
    }
   ],
   "source": [
    "fig, axes = plt.subplots(ncols=max(labels)+1, nrows=3, figsize=(30, 10), sharey='row')\n",
    "\n",
    "for cluster in sorted(labels):\n",
    "    events = dataset.index[[c == cluster for c in categories]]\n",
    "    if not(any(events)):\n",
    "        continue\n",
    "\n",
    "    df_cluster = df.where(lambda x: x[split_by].isin(events))\\\n",
    "                    .dropna(how='all')\\\n",
    "                    .set_index('time_event_norm')\\\n",
    "                    .groupby(split_by)\n",
    "              \n",
    "    df_cluster['yr'].plot(ax=axes[0, cluster], alpha=0.05, style='k', title=f'cluster {cluster}')\n",
    "    df_cluster['speed'].plot(ax=axes[1, cluster], alpha=0.05, style='k')\n",
    "    df_cluster['gx'].plot(ax=axes[2, cluster], alpha=0.05, style='k')"
   ]
  },
  {
   "cell_type": "markdown",
   "metadata": {},
   "source": [
    "Same but without norming the time in X, time here is not in percentage but in its \"initial\" value (seconds)"
   ]
  },
  {
   "cell_type": "code",
   "execution_count": 31,
   "metadata": {},
   "outputs": [
    {
     "output_type": "error",
     "ename": "NameError",
     "evalue": "name 'plt' is not defined",
     "traceback": [
      "\u001b[0;31m---------------------------------------------------------------------------\u001b[0m",
      "\u001b[0;31mNameError\u001b[0m                                 Traceback (most recent call last)",
      "\u001b[0;32m<ipython-input-31-8543dddc51df>\u001b[0m in \u001b[0;36m<module>\u001b[0;34m\u001b[0m\n\u001b[0;32m----> 1\u001b[0;31m \u001b[0mfig\u001b[0m\u001b[0;34m,\u001b[0m \u001b[0maxes\u001b[0m \u001b[0;34m=\u001b[0m \u001b[0mplt\u001b[0m\u001b[0;34m.\u001b[0m\u001b[0msubplots\u001b[0m\u001b[0;34m(\u001b[0m\u001b[0mncols\u001b[0m\u001b[0;34m=\u001b[0m\u001b[0mmax\u001b[0m\u001b[0;34m(\u001b[0m\u001b[0mlabels\u001b[0m\u001b[0;34m)\u001b[0m\u001b[0;34m+\u001b[0m\u001b[0;36m1\u001b[0m\u001b[0;34m,\u001b[0m \u001b[0mnrows\u001b[0m\u001b[0;34m=\u001b[0m\u001b[0;36m3\u001b[0m\u001b[0;34m,\u001b[0m \u001b[0mfigsize\u001b[0m\u001b[0;34m=\u001b[0m\u001b[0;34m(\u001b[0m\u001b[0;36m30\u001b[0m\u001b[0;34m,\u001b[0m \u001b[0;36m10\u001b[0m\u001b[0;34m)\u001b[0m\u001b[0;34m,\u001b[0m \u001b[0msharey\u001b[0m\u001b[0;34m=\u001b[0m\u001b[0;34m'row'\u001b[0m\u001b[0;34m)\u001b[0m\u001b[0;34m\u001b[0m\u001b[0;34m\u001b[0m\u001b[0m\n\u001b[0m\u001b[1;32m      2\u001b[0m \u001b[0;34m\u001b[0m\u001b[0m\n\u001b[1;32m      3\u001b[0m \u001b[0;32mfor\u001b[0m \u001b[0mcluster\u001b[0m \u001b[0;32min\u001b[0m \u001b[0msorted\u001b[0m\u001b[0;34m(\u001b[0m\u001b[0mlabels\u001b[0m\u001b[0;34m)\u001b[0m\u001b[0;34m:\u001b[0m\u001b[0;34m\u001b[0m\u001b[0;34m\u001b[0m\u001b[0m\n\u001b[1;32m      4\u001b[0m     \u001b[0mevents\u001b[0m \u001b[0;34m=\u001b[0m \u001b[0mdataset\u001b[0m\u001b[0;34m.\u001b[0m\u001b[0mindex\u001b[0m\u001b[0;34m[\u001b[0m\u001b[0;34m[\u001b[0m\u001b[0mc\u001b[0m \u001b[0;34m==\u001b[0m \u001b[0mcluster\u001b[0m \u001b[0;32mfor\u001b[0m \u001b[0mc\u001b[0m \u001b[0;32min\u001b[0m \u001b[0mcategories\u001b[0m\u001b[0;34m]\u001b[0m\u001b[0;34m]\u001b[0m\u001b[0;34m\u001b[0m\u001b[0;34m\u001b[0m\u001b[0m\n\u001b[1;32m      5\u001b[0m     \u001b[0;32mif\u001b[0m \u001b[0;32mnot\u001b[0m\u001b[0;34m(\u001b[0m\u001b[0many\u001b[0m\u001b[0;34m(\u001b[0m\u001b[0mevents\u001b[0m\u001b[0;34m)\u001b[0m\u001b[0;34m)\u001b[0m\u001b[0;34m:\u001b[0m\u001b[0;34m\u001b[0m\u001b[0;34m\u001b[0m\u001b[0m\n",
      "\u001b[0;31mNameError\u001b[0m: name 'plt' is not defined"
     ]
    }
   ],
   "source": [
    "fig, axes = plt.subplots(ncols=max(labels)+1, nrows=3, figsize=(30, 10), sharey='row')\n",
    "\n",
    "for cluster in sorted(labels):\n",
    "    events = dataset.index[[c == cluster for c in categories]]\n",
    "    if not(any(events)):\n",
    "        continue\n",
    "\n",
    "    df_cluster = df.where(lambda x: x[split_by].isin(events))\\\n",
    "                    .dropna(how='all')\\\n",
    "                    .set_index('time_event')\\\n",
    "                    .groupby(split_by)\n",
    "              \n",
    "    df_cluster['yr'].plot(ax=axes[0, cluster], alpha=0.05, style='k', title=f'cluster {cluster}')\n",
    "    df_cluster['speed'].plot(ax=axes[1, cluster], alpha=0.05, style='k')\n",
    "    df_cluster['gx'].plot(ax=axes[2, cluster], alpha=0.05, style='k')"
   ]
  },
  {
   "cell_type": "markdown",
   "metadata": {},
   "source": [
    "## Example of trajectory plot"
   ]
  },
  {
   "cell_type": "code",
   "execution_count": 32,
   "metadata": {},
   "outputs": [
    {
     "output_type": "error",
     "ename": "NameError",
     "evalue": "name 'plt' is not defined",
     "traceback": [
      "\u001b[0;31m---------------------------------------------------------------------------\u001b[0m",
      "\u001b[0;31mNameError\u001b[0m                                 Traceback (most recent call last)",
      "\u001b[0;32m<ipython-input-32-83c2db94741b>\u001b[0m in \u001b[0;36m<module>\u001b[0;34m\u001b[0m\n\u001b[1;32m      1\u001b[0m \u001b[0mn_example\u001b[0m \u001b[0;34m=\u001b[0m \u001b[0;36m10\u001b[0m\u001b[0;34m\u001b[0m\u001b[0;34m\u001b[0m\u001b[0m\n\u001b[1;32m      2\u001b[0m \u001b[0;34m\u001b[0m\u001b[0m\n\u001b[0;32m----> 3\u001b[0;31m \u001b[0mfig\u001b[0m\u001b[0;34m,\u001b[0m \u001b[0maxes\u001b[0m \u001b[0;34m=\u001b[0m \u001b[0mplt\u001b[0m\u001b[0;34m.\u001b[0m\u001b[0msubplots\u001b[0m\u001b[0;34m(\u001b[0m\u001b[0mncols\u001b[0m\u001b[0;34m=\u001b[0m\u001b[0mn_example\u001b[0m\u001b[0;34m,\u001b[0m \u001b[0mfigsize\u001b[0m\u001b[0;34m=\u001b[0m\u001b[0;34m(\u001b[0m\u001b[0;36m30\u001b[0m\u001b[0;34m,\u001b[0m \u001b[0;36m10\u001b[0m\u001b[0;34m)\u001b[0m\u001b[0;34m)\u001b[0m\u001b[0;34m\u001b[0m\u001b[0;34m\u001b[0m\u001b[0m\n\u001b[0m\u001b[1;32m      4\u001b[0m \u001b[0;34m\u001b[0m\u001b[0m\n\u001b[1;32m      5\u001b[0m \u001b[0;32mfor\u001b[0m \u001b[0mexample\u001b[0m \u001b[0;32min\u001b[0m \u001b[0mrange\u001b[0m\u001b[0;34m(\u001b[0m\u001b[0mn_example\u001b[0m\u001b[0;34m)\u001b[0m\u001b[0;34m:\u001b[0m\u001b[0;34m\u001b[0m\u001b[0;34m\u001b[0m\u001b[0m\n",
      "\u001b[0;31mNameError\u001b[0m: name 'plt' is not defined"
     ]
    }
   ],
   "source": [
    "n_example = 10\n",
    "\n",
    "fig, axes = plt.subplots(ncols=n_example, figsize=(30, 10))\n",
    "\n",
    "for example in range(n_example):\n",
    "    df.groupby(split_by).get_group(dataset.index[n_example])\\\n",
    "    [['distx', 'disty']]\\\n",
    "    .plot(x='disty', y='distx', ax=axes[example])\n",
    "    axes[example].set_aspect('equal')"
   ]
  },
  {
   "cell_type": "markdown",
   "metadata": {},
   "source": [
    "### Ghost-plot with trajectories"
   ]
  },
  {
   "cell_type": "code",
   "execution_count": 33,
   "metadata": {},
   "outputs": [
    {
     "output_type": "error",
     "ename": "NameError",
     "evalue": "name 'plt' is not defined",
     "traceback": [
      "\u001b[0;31m---------------------------------------------------------------------------\u001b[0m",
      "\u001b[0;31mNameError\u001b[0m                                 Traceback (most recent call last)",
      "\u001b[0;32m<ipython-input-33-a4b558052815>\u001b[0m in \u001b[0;36m<module>\u001b[0;34m\u001b[0m\n\u001b[0;32m----> 1\u001b[0;31m \u001b[0mfig\u001b[0m\u001b[0;34m,\u001b[0m \u001b[0maxes\u001b[0m \u001b[0;34m=\u001b[0m \u001b[0mplt\u001b[0m\u001b[0;34m.\u001b[0m\u001b[0msubplots\u001b[0m\u001b[0;34m(\u001b[0m\u001b[0mncols\u001b[0m\u001b[0;34m=\u001b[0m\u001b[0mmax\u001b[0m\u001b[0;34m(\u001b[0m\u001b[0mlabels\u001b[0m\u001b[0;34m)\u001b[0m\u001b[0;34m+\u001b[0m\u001b[0;36m1\u001b[0m\u001b[0;34m,\u001b[0m \u001b[0mfigsize\u001b[0m\u001b[0;34m=\u001b[0m\u001b[0;34m(\u001b[0m\u001b[0;36m30\u001b[0m\u001b[0;34m,\u001b[0m \u001b[0;36m10\u001b[0m\u001b[0;34m)\u001b[0m\u001b[0;34m,\u001b[0m \u001b[0msharey\u001b[0m\u001b[0;34m=\u001b[0m\u001b[0;34m'row'\u001b[0m\u001b[0;34m)\u001b[0m\u001b[0;34m\u001b[0m\u001b[0;34m\u001b[0m\u001b[0m\n\u001b[0m\u001b[1;32m      2\u001b[0m \u001b[0;34m\u001b[0m\u001b[0m\n\u001b[1;32m      3\u001b[0m \u001b[0;32mfor\u001b[0m \u001b[0mcluster\u001b[0m \u001b[0;32min\u001b[0m \u001b[0msorted\u001b[0m\u001b[0;34m(\u001b[0m\u001b[0mlabels\u001b[0m\u001b[0;34m)\u001b[0m\u001b[0;34m:\u001b[0m\u001b[0;34m\u001b[0m\u001b[0;34m\u001b[0m\u001b[0m\n\u001b[1;32m      4\u001b[0m     \u001b[0mevents\u001b[0m \u001b[0;34m=\u001b[0m \u001b[0mdataset\u001b[0m\u001b[0;34m.\u001b[0m\u001b[0mindex\u001b[0m\u001b[0;34m[\u001b[0m\u001b[0;34m[\u001b[0m\u001b[0mc\u001b[0m \u001b[0;34m==\u001b[0m \u001b[0mcluster\u001b[0m \u001b[0;32mfor\u001b[0m \u001b[0mc\u001b[0m \u001b[0;32min\u001b[0m \u001b[0mcategories\u001b[0m\u001b[0;34m]\u001b[0m\u001b[0;34m]\u001b[0m\u001b[0;34m\u001b[0m\u001b[0;34m\u001b[0m\u001b[0m\n\u001b[1;32m      5\u001b[0m     \u001b[0;32mif\u001b[0m \u001b[0;32mnot\u001b[0m\u001b[0;34m(\u001b[0m\u001b[0many\u001b[0m\u001b[0;34m(\u001b[0m\u001b[0mevents\u001b[0m\u001b[0;34m)\u001b[0m\u001b[0;34m)\u001b[0m\u001b[0;34m:\u001b[0m\u001b[0;34m\u001b[0m\u001b[0;34m\u001b[0m\u001b[0m\n",
      "\u001b[0;31mNameError\u001b[0m: name 'plt' is not defined"
     ]
    }
   ],
   "source": [
    "fig, axes = plt.subplots(ncols=max(labels)+1, figsize=(30, 10), sharey='row')\n",
    "\n",
    "for cluster in sorted(labels):\n",
    "    events = dataset.index[[c == cluster for c in categories]]\n",
    "    if not(any(events)):\n",
    "        continue\n",
    "\n",
    "    df_cluster = df.where(lambda x: x[split_by].isin(events))\\\n",
    "                    .dropna(how='all')\\\n",
    "                    .set_index('time_event_norm')\\\n",
    "                    .groupby(split_by)\n",
    "\n",
    "    df_cluster[['distx', 'disty']].plot(ax=axes[cluster], alpha=0.05, style='k', x='disty', y='distx', title=f'cluster {cluster}')\n",
    "    axes[cluster].set_aspect('equal')\n",
    "    axes[cluster].get_legend().remove()"
   ]
  }
 ],
 "metadata": {
  "language_info": {
   "codemirror_mode": {
    "name": "ipython",
    "version": 3
   },
   "file_extension": ".py",
   "mimetype": "text/x-python",
   "name": "python",
   "nbconvert_exporter": "python",
   "pygments_lexer": "ipython3",
   "version": "3.7.7-final"
  },
  "orig_nbformat": 2,
  "kernelspec": {
   "name": "python37664bitanaconda3virtualenve1a4736af11941998e96b52408d2750f",
   "display_name": "Python 3.7.6 64-bit ('anaconda3': virtualenv)"
  }
 },
 "nbformat": 4,
 "nbformat_minor": 2
}