{
 "cells": [
  {
   "cell_type": "markdown",
   "metadata": {},
   "source": [
    "Here we prepare the data to be more readible and easy to load for later usage.\n",
    "Code which takes care of specificity of data from an origin should be done here. Afterwards the data should be more standardized:\n",
    "* in 1 table (as long as index is same)\n",
    "* with signal name as column name\n",
    "* repartitioned by file name\n",
    "* in parquet format"
   ]
  },
  {
   "cell_type": "code",
   "execution_count": 31,
   "metadata": {},
   "outputs": [],
   "source": [
    "import numpy as np\n",
    "import pandas as pd\n",
    "import dask.dataframe as dd\n",
    "from tqdm import tqdm_notebook as tqdm\n",
    "\n",
    "from typing import List\n",
    "from IPython.display import display\n",
    "from pathlib import Path"
   ]
  },
  {
   "cell_type": "code",
   "execution_count": 32,
   "metadata": {},
   "outputs": [],
   "source": [
    "fp = Path('data/UAH-DRIVESET-v1/raw')"
   ]
  },
  {
   "cell_type": "markdown",
   "metadata": {},
   "source": [
    "You have to ensure that you do not read too much columns. In fact the files have an issue in the sense that there in an extra separator at the end of each line but for some files only. As such the column in each partitions are not uniform as initially loaded by Dask."
   ]
  },
  {
   "cell_type": "code",
   "execution_count": 33,
   "metadata": {},
   "outputs": [],
   "source": [
    "def parse_date(x:str):\n",
    "    return x.str.extract(r'^(\\d+)-', expand=False)\n",
    "\n",
    "def read_data(filepath:Path, col:List[str])->dd.DataFrame:\n",
    "    return dd.read_csv(\n",
    "        filepath,\n",
    "        include_path_column=True,\n",
    "        sep=' ',\n",
    "        usecols=list(range(len(col))),\n",
    "        header=None\n",
    "    ).map_partitions(lambda x:\n",
    "        x.iloc[:,:len(col)]\\\n",
    "         .set_axis(col, axis=1)\\\n",
    "         .assign(\n",
    "            path=x['path'].map(lambda x: str(Path(x).parts[-2])),\n",
    "            trip=lambda x: x.path.str.extract(r'^\\d+-(.+)', expand=False),\n",
    "            timestamp=lambda x: pd.to_datetime(parse_date(x['path'])) + pd.to_timedelta(x['time'], unit='s')\n",
    "         )\n",
    "    )"
   ]
  },
  {
   "cell_type": "code",
   "execution_count": 34,
   "metadata": {},
   "outputs": [],
   "source": [
    "df_acc = read_data(\n",
    "    Path(fp, '**/RAW_ACCELEROMETERS.txt'),\n",
    "    [\n",
    "        'time',\n",
    "        'above 50kph',\n",
    "        'GX',\n",
    "        'GY',\n",
    "        'GZ',\n",
    "        'GX_filt',\n",
    "        'GY_filt',\n",
    "        'GZ_filt',\n",
    "        'Roll',\n",
    "        'Pitch',\n",
    "        'Yaw',\n",
    "])\n",
    "\n",
    "df_gps = read_data(\n",
    "    Path(fp, '**/RAW_GPS.txt'),\n",
    "    [\n",
    "        'time',\n",
    "        'Speed',\n",
    "        'Latitude',\n",
    "        'Longitude',\n",
    "        'Altitude',\n",
    "        'Vertical accuracy',\n",
    "        'Horizontal accuracy',\n",
    "        'Course',\n",
    "        'Difcourse: course variation',\n",
    "        'Position state',\n",
    "        'Lanex dist state',\n",
    "        'Lanex history',\n",
    "])\n",
    "\n",
    "df_osm = read_data(\n",
    "    Path(fp, '**/PROC_OPENSTREETMAP_DATA.txt'),\n",
    "    [\n",
    "        'time',\n",
    "        'Current road maxspeed',\n",
    "        'Maxspeed reliability',\n",
    "        'Road type',\n",
    "        '# of lanes in road',\n",
    "        'Estimated current lane',\n",
    "        'Latitude used to query OSM',\n",
    "        'Longitude used to query OSM',\n",
    "        'Delay answer OSM query',\n",
    "        'Speed',\n",
    "])"
   ]
  },
  {
   "cell_type": "code",
   "execution_count": 35,
   "metadata": {},
   "outputs": [
    {
     "output_type": "display_data",
     "data": {
      "text/plain": "        time  above 50kph     GX     GY     GZ  GX_filt  GY_filt  GZ_filt  \\\n9047  924.31            0 -0.009 -0.025 -0.017    0.008   -0.018   -0.022   \n9048  924.42            0 -0.023 -0.070 -0.027   -0.015   -0.040   -0.022   \n9049  924.51            0 -0.005 -0.045 -0.028   -0.007   -0.051   -0.026   \n9050  924.61            0  0.003 -0.067 -0.008   -0.011   -0.051   -0.021   \n9051  924.72            0  0.012 -0.063 -0.019    0.011   -0.066   -0.014   \n\n       Roll  Pitch    Yaw                                        path  \\\n9047 -1.472 -0.184  2.331  20151221120051-26km-D6-AGGRESSIVE-MOTORWAY   \n9048 -1.471 -0.177  2.322  20151221120051-26km-D6-AGGRESSIVE-MOTORWAY   \n9049 -1.469 -0.172  2.312  20151221120051-26km-D6-AGGRESSIVE-MOTORWAY   \n9050 -1.470 -0.167  2.306  20151221120051-26km-D6-AGGRESSIVE-MOTORWAY   \n9051 -1.469 -0.159  2.298  20151221120051-26km-D6-AGGRESSIVE-MOTORWAY   \n\n                             trip               timestamp  \n9047  26km-D6-AGGRESSIVE-MOTORWAY 2015-12-21 12:16:15.310  \n9048  26km-D6-AGGRESSIVE-MOTORWAY 2015-12-21 12:16:15.420  \n9049  26km-D6-AGGRESSIVE-MOTORWAY 2015-12-21 12:16:15.510  \n9050  26km-D6-AGGRESSIVE-MOTORWAY 2015-12-21 12:16:15.610  \n9051  26km-D6-AGGRESSIVE-MOTORWAY 2015-12-21 12:16:15.720  ",
      "text/html": "<div>\n<style scoped>\n    .dataframe tbody tr th:only-of-type {\n        vertical-align: middle;\n    }\n\n    .dataframe tbody tr th {\n        vertical-align: top;\n    }\n\n    .dataframe thead th {\n        text-align: right;\n    }\n</style>\n<table border=\"1\" class=\"dataframe\">\n  <thead>\n    <tr style=\"text-align: right;\">\n      <th></th>\n      <th>time</th>\n      <th>above 50kph</th>\n      <th>GX</th>\n      <th>GY</th>\n      <th>GZ</th>\n      <th>GX_filt</th>\n      <th>GY_filt</th>\n      <th>GZ_filt</th>\n      <th>Roll</th>\n      <th>Pitch</th>\n      <th>Yaw</th>\n      <th>path</th>\n      <th>trip</th>\n      <th>timestamp</th>\n    </tr>\n  </thead>\n  <tbody>\n    <tr>\n      <th>9047</th>\n      <td>924.31</td>\n      <td>0</td>\n      <td>-0.009</td>\n      <td>-0.025</td>\n      <td>-0.017</td>\n      <td>0.008</td>\n      <td>-0.018</td>\n      <td>-0.022</td>\n      <td>-1.472</td>\n      <td>-0.184</td>\n      <td>2.331</td>\n      <td>20151221120051-26km-D6-AGGRESSIVE-MOTORWAY</td>\n      <td>26km-D6-AGGRESSIVE-MOTORWAY</td>\n      <td>2015-12-21 12:16:15.310</td>\n    </tr>\n    <tr>\n      <th>9048</th>\n      <td>924.42</td>\n      <td>0</td>\n      <td>-0.023</td>\n      <td>-0.070</td>\n      <td>-0.027</td>\n      <td>-0.015</td>\n      <td>-0.040</td>\n      <td>-0.022</td>\n      <td>-1.471</td>\n      <td>-0.177</td>\n      <td>2.322</td>\n      <td>20151221120051-26km-D6-AGGRESSIVE-MOTORWAY</td>\n      <td>26km-D6-AGGRESSIVE-MOTORWAY</td>\n      <td>2015-12-21 12:16:15.420</td>\n    </tr>\n    <tr>\n      <th>9049</th>\n      <td>924.51</td>\n      <td>0</td>\n      <td>-0.005</td>\n      <td>-0.045</td>\n      <td>-0.028</td>\n      <td>-0.007</td>\n      <td>-0.051</td>\n      <td>-0.026</td>\n      <td>-1.469</td>\n      <td>-0.172</td>\n      <td>2.312</td>\n      <td>20151221120051-26km-D6-AGGRESSIVE-MOTORWAY</td>\n      <td>26km-D6-AGGRESSIVE-MOTORWAY</td>\n      <td>2015-12-21 12:16:15.510</td>\n    </tr>\n    <tr>\n      <th>9050</th>\n      <td>924.61</td>\n      <td>0</td>\n      <td>0.003</td>\n      <td>-0.067</td>\n      <td>-0.008</td>\n      <td>-0.011</td>\n      <td>-0.051</td>\n      <td>-0.021</td>\n      <td>-1.470</td>\n      <td>-0.167</td>\n      <td>2.306</td>\n      <td>20151221120051-26km-D6-AGGRESSIVE-MOTORWAY</td>\n      <td>26km-D6-AGGRESSIVE-MOTORWAY</td>\n      <td>2015-12-21 12:16:15.610</td>\n    </tr>\n    <tr>\n      <th>9051</th>\n      <td>924.72</td>\n      <td>0</td>\n      <td>0.012</td>\n      <td>-0.063</td>\n      <td>-0.019</td>\n      <td>0.011</td>\n      <td>-0.066</td>\n      <td>-0.014</td>\n      <td>-1.469</td>\n      <td>-0.159</td>\n      <td>2.298</td>\n      <td>20151221120051-26km-D6-AGGRESSIVE-MOTORWAY</td>\n      <td>26km-D6-AGGRESSIVE-MOTORWAY</td>\n      <td>2015-12-21 12:16:15.720</td>\n    </tr>\n  </tbody>\n</table>\n</div>"
     },
     "metadata": {}
    },
    {
     "output_type": "display_data",
     "data": {
      "text/plain": "       time  Speed   Latitude  Longitude  Altitude  Vertical accuracy  \\\n910  920.06   59.0  40.505188  -3.354565     595.5                  3   \n911  921.06   54.5  40.505150  -3.354396     595.5                  4   \n912  922.08   51.1  40.505104  -3.354241     595.2                  4   \n913  923.07   48.1  40.505039  -3.354100     595.1                  4   \n914  924.07   44.9  40.504963  -3.353992     595.0                  3   \n\n     Horizontal accuracy  Course  Difcourse: course variation  Position state  \\\n910                    5   104.4                        3.164               0   \n911                    5   107.9                        4.922               0   \n912                    5   114.6                       10.195               0   \n913                    5   122.7                        0.000              -9   \n914                    5   132.9                        0.000              -9   \n\n     Lanex dist state  Lanex history  \\\n910                 1              0   \n911                 2              0   \n912                 1              0   \n913                -9              0   \n914                -9              0   \n\n                                           path                         trip  \\\n910  20151221120051-26km-D6-AGGRESSIVE-MOTORWAY  26km-D6-AGGRESSIVE-MOTORWAY   \n911  20151221120051-26km-D6-AGGRESSIVE-MOTORWAY  26km-D6-AGGRESSIVE-MOTORWAY   \n912  20151221120051-26km-D6-AGGRESSIVE-MOTORWAY  26km-D6-AGGRESSIVE-MOTORWAY   \n913  20151221120051-26km-D6-AGGRESSIVE-MOTORWAY  26km-D6-AGGRESSIVE-MOTORWAY   \n914  20151221120051-26km-D6-AGGRESSIVE-MOTORWAY  26km-D6-AGGRESSIVE-MOTORWAY   \n\n                  timestamp  \n910 2015-12-21 12:16:11.060  \n911 2015-12-21 12:16:12.060  \n912 2015-12-21 12:16:13.080  \n913 2015-12-21 12:16:14.070  \n914 2015-12-21 12:16:15.070  ",
      "text/html": "<div>\n<style scoped>\n    .dataframe tbody tr th:only-of-type {\n        vertical-align: middle;\n    }\n\n    .dataframe tbody tr th {\n        vertical-align: top;\n    }\n\n    .dataframe thead th {\n        text-align: right;\n    }\n</style>\n<table border=\"1\" class=\"dataframe\">\n  <thead>\n    <tr style=\"text-align: right;\">\n      <th></th>\n      <th>time</th>\n      <th>Speed</th>\n      <th>Latitude</th>\n      <th>Longitude</th>\n      <th>Altitude</th>\n      <th>Vertical accuracy</th>\n      <th>Horizontal accuracy</th>\n      <th>Course</th>\n      <th>Difcourse: course variation</th>\n      <th>Position state</th>\n      <th>Lanex dist state</th>\n      <th>Lanex history</th>\n      <th>path</th>\n      <th>trip</th>\n      <th>timestamp</th>\n    </tr>\n  </thead>\n  <tbody>\n    <tr>\n      <th>910</th>\n      <td>920.06</td>\n      <td>59.0</td>\n      <td>40.505188</td>\n      <td>-3.354565</td>\n      <td>595.5</td>\n      <td>3</td>\n      <td>5</td>\n      <td>104.4</td>\n      <td>3.164</td>\n      <td>0</td>\n      <td>1</td>\n      <td>0</td>\n      <td>20151221120051-26km-D6-AGGRESSIVE-MOTORWAY</td>\n      <td>26km-D6-AGGRESSIVE-MOTORWAY</td>\n      <td>2015-12-21 12:16:11.060</td>\n    </tr>\n    <tr>\n      <th>911</th>\n      <td>921.06</td>\n      <td>54.5</td>\n      <td>40.505150</td>\n      <td>-3.354396</td>\n      <td>595.5</td>\n      <td>4</td>\n      <td>5</td>\n      <td>107.9</td>\n      <td>4.922</td>\n      <td>0</td>\n      <td>2</td>\n      <td>0</td>\n      <td>20151221120051-26km-D6-AGGRESSIVE-MOTORWAY</td>\n      <td>26km-D6-AGGRESSIVE-MOTORWAY</td>\n      <td>2015-12-21 12:16:12.060</td>\n    </tr>\n    <tr>\n      <th>912</th>\n      <td>922.08</td>\n      <td>51.1</td>\n      <td>40.505104</td>\n      <td>-3.354241</td>\n      <td>595.2</td>\n      <td>4</td>\n      <td>5</td>\n      <td>114.6</td>\n      <td>10.195</td>\n      <td>0</td>\n      <td>1</td>\n      <td>0</td>\n      <td>20151221120051-26km-D6-AGGRESSIVE-MOTORWAY</td>\n      <td>26km-D6-AGGRESSIVE-MOTORWAY</td>\n      <td>2015-12-21 12:16:13.080</td>\n    </tr>\n    <tr>\n      <th>913</th>\n      <td>923.07</td>\n      <td>48.1</td>\n      <td>40.505039</td>\n      <td>-3.354100</td>\n      <td>595.1</td>\n      <td>4</td>\n      <td>5</td>\n      <td>122.7</td>\n      <td>0.000</td>\n      <td>-9</td>\n      <td>-9</td>\n      <td>0</td>\n      <td>20151221120051-26km-D6-AGGRESSIVE-MOTORWAY</td>\n      <td>26km-D6-AGGRESSIVE-MOTORWAY</td>\n      <td>2015-12-21 12:16:14.070</td>\n    </tr>\n    <tr>\n      <th>914</th>\n      <td>924.07</td>\n      <td>44.9</td>\n      <td>40.504963</td>\n      <td>-3.353992</td>\n      <td>595.0</td>\n      <td>3</td>\n      <td>5</td>\n      <td>132.9</td>\n      <td>0.000</td>\n      <td>-9</td>\n      <td>-9</td>\n      <td>0</td>\n      <td>20151221120051-26km-D6-AGGRESSIVE-MOTORWAY</td>\n      <td>26km-D6-AGGRESSIVE-MOTORWAY</td>\n      <td>2015-12-21 12:16:15.070</td>\n    </tr>\n  </tbody>\n</table>\n</div>"
     },
     "metadata": {}
    },
    {
     "output_type": "display_data",
     "data": {
      "text/plain": "       time  Current road maxspeed  Maxspeed reliability      Road type  \\\n376  916.24                   70.0                     1  motorway_link   \n377  918.20                   70.0                     1  motorway_link   \n378  919.79                   70.0                     1  motorway_link   \n379  921.84                   70.0                     1  motorway_link   \n380  923.48                   70.0                     1  motorway_link   \n\n     # of lanes in road  Estimated current lane  Latitude used to query OSM  \\\n376                   2                       1                   40.505344   \n377                   2                       1                   40.505283   \n378                   2                       1                   40.505219   \n379                   2                       1                   40.505188   \n380                   2                       1                   40.505104   \n\n     Longitude used to query OSM  Delay answer OSM query  Speed  \\\n376                    -3.355615                   1.193   69.7   \n377                    -3.355186                   1.146   65.7   \n378                    -3.354764                   0.737   59.0   \n379                    -3.354564                   1.791   51.1   \n380                    -3.354241                   1.419   48.1   \n\n                                           path                         trip  \\\n376  20151221120051-26km-D6-AGGRESSIVE-MOTORWAY  26km-D6-AGGRESSIVE-MOTORWAY   \n377  20151221120051-26km-D6-AGGRESSIVE-MOTORWAY  26km-D6-AGGRESSIVE-MOTORWAY   \n378  20151221120051-26km-D6-AGGRESSIVE-MOTORWAY  26km-D6-AGGRESSIVE-MOTORWAY   \n379  20151221120051-26km-D6-AGGRESSIVE-MOTORWAY  26km-D6-AGGRESSIVE-MOTORWAY   \n380  20151221120051-26km-D6-AGGRESSIVE-MOTORWAY  26km-D6-AGGRESSIVE-MOTORWAY   \n\n                  timestamp  \n376 2015-12-21 12:16:07.240  \n377 2015-12-21 12:16:09.200  \n378 2015-12-21 12:16:10.790  \n379 2015-12-21 12:16:12.840  \n380 2015-12-21 12:16:14.480  ",
      "text/html": "<div>\n<style scoped>\n    .dataframe tbody tr th:only-of-type {\n        vertical-align: middle;\n    }\n\n    .dataframe tbody tr th {\n        vertical-align: top;\n    }\n\n    .dataframe thead th {\n        text-align: right;\n    }\n</style>\n<table border=\"1\" class=\"dataframe\">\n  <thead>\n    <tr style=\"text-align: right;\">\n      <th></th>\n      <th>time</th>\n      <th>Current road maxspeed</th>\n      <th>Maxspeed reliability</th>\n      <th>Road type</th>\n      <th># of lanes in road</th>\n      <th>Estimated current lane</th>\n      <th>Latitude used to query OSM</th>\n      <th>Longitude used to query OSM</th>\n      <th>Delay answer OSM query</th>\n      <th>Speed</th>\n      <th>path</th>\n      <th>trip</th>\n      <th>timestamp</th>\n    </tr>\n  </thead>\n  <tbody>\n    <tr>\n      <th>376</th>\n      <td>916.24</td>\n      <td>70.0</td>\n      <td>1</td>\n      <td>motorway_link</td>\n      <td>2</td>\n      <td>1</td>\n      <td>40.505344</td>\n      <td>-3.355615</td>\n      <td>1.193</td>\n      <td>69.7</td>\n      <td>20151221120051-26km-D6-AGGRESSIVE-MOTORWAY</td>\n      <td>26km-D6-AGGRESSIVE-MOTORWAY</td>\n      <td>2015-12-21 12:16:07.240</td>\n    </tr>\n    <tr>\n      <th>377</th>\n      <td>918.20</td>\n      <td>70.0</td>\n      <td>1</td>\n      <td>motorway_link</td>\n      <td>2</td>\n      <td>1</td>\n      <td>40.505283</td>\n      <td>-3.355186</td>\n      <td>1.146</td>\n      <td>65.7</td>\n      <td>20151221120051-26km-D6-AGGRESSIVE-MOTORWAY</td>\n      <td>26km-D6-AGGRESSIVE-MOTORWAY</td>\n      <td>2015-12-21 12:16:09.200</td>\n    </tr>\n    <tr>\n      <th>378</th>\n      <td>919.79</td>\n      <td>70.0</td>\n      <td>1</td>\n      <td>motorway_link</td>\n      <td>2</td>\n      <td>1</td>\n      <td>40.505219</td>\n      <td>-3.354764</td>\n      <td>0.737</td>\n      <td>59.0</td>\n      <td>20151221120051-26km-D6-AGGRESSIVE-MOTORWAY</td>\n      <td>26km-D6-AGGRESSIVE-MOTORWAY</td>\n      <td>2015-12-21 12:16:10.790</td>\n    </tr>\n    <tr>\n      <th>379</th>\n      <td>921.84</td>\n      <td>70.0</td>\n      <td>1</td>\n      <td>motorway_link</td>\n      <td>2</td>\n      <td>1</td>\n      <td>40.505188</td>\n      <td>-3.354564</td>\n      <td>1.791</td>\n      <td>51.1</td>\n      <td>20151221120051-26km-D6-AGGRESSIVE-MOTORWAY</td>\n      <td>26km-D6-AGGRESSIVE-MOTORWAY</td>\n      <td>2015-12-21 12:16:12.840</td>\n    </tr>\n    <tr>\n      <th>380</th>\n      <td>923.48</td>\n      <td>70.0</td>\n      <td>1</td>\n      <td>motorway_link</td>\n      <td>2</td>\n      <td>1</td>\n      <td>40.505104</td>\n      <td>-3.354241</td>\n      <td>1.419</td>\n      <td>48.1</td>\n      <td>20151221120051-26km-D6-AGGRESSIVE-MOTORWAY</td>\n      <td>26km-D6-AGGRESSIVE-MOTORWAY</td>\n      <td>2015-12-21 12:16:14.480</td>\n    </tr>\n  </tbody>\n</table>\n</div>"
     },
     "metadata": {}
    }
   ],
   "source": [
    "display(df_acc.tail())\n",
    "display(df_gps.tail())\n",
    "display(df_osm.tail())"
   ]
  },
  {
   "cell_type": "markdown",
   "metadata": {},
   "source": [
    "## Merge (column-on-column)"
   ]
  },
  {
   "cell_type": "code",
   "execution_count": 36,
   "metadata": {},
   "outputs": [],
   "source": [
    "df = df_gps.merge(df_osm, how=\"outer\", on=['path', 'timestamp'], suffixes=('_gps', '_osm'))\n",
    "df = df.merge(df_acc, how=\"outer\", on=['path', 'timestamp'], suffixes=('', '_acc'))\n",
    "\n",
    "df = df.groupby('path').apply(lambda x: x.sort_values('timestamp'))\n",
    "df = df.reset_index(drop=True)"
   ]
  },
  {
   "cell_type": "code",
   "execution_count": 37,
   "metadata": {},
   "outputs": [],
   "source": [
    "df['speed'] = df['Speed_gps']\n",
    "df = df.drop(['Speed_gps', 'Speed_osm'], axis=1)"
   ]
  },
  {
   "cell_type": "code",
   "execution_count": 38,
   "metadata": {},
   "outputs": [],
   "source": [
    "# display(df_gps['Latitude'].count().compute() - df['Latitude'].count().compute())\n",
    "# display(df_osm['Current road maxspeed'].value_counts().compute() - df['Current road maxspeed'].value_counts().compute())"
   ]
  },
  {
   "cell_type": "code",
   "execution_count": 39,
   "metadata": {},
   "outputs": [
    {
     "output_type": "display_data",
     "data": {
      "text/plain": "   time_gps  Latitude  Longitude  Altitude  Vertical accuracy  \\\n0       NaN       NaN        NaN       NaN                NaN   \n1       NaN       NaN        NaN       NaN                NaN   \n2       NaN       NaN        NaN       NaN                NaN   \n3       NaN       NaN        NaN       NaN                NaN   \n4       NaN       NaN        NaN       NaN                NaN   \n\n   Horizontal accuracy  Course  Difcourse: course variation  Position state  \\\n0                  NaN     NaN                          NaN             NaN   \n1                  NaN     NaN                          NaN             NaN   \n2                  NaN     NaN                          NaN             NaN   \n3                  NaN     NaN                          NaN             NaN   \n4                  NaN     NaN                          NaN             NaN   \n\n   Lanex dist state  Lanex history                                    path  \\\n0               NaN            NaN  20151111132348-25km-D1-DROWSY-MOTORWAY   \n1               NaN            NaN  20151111132348-25km-D1-DROWSY-MOTORWAY   \n2               NaN            NaN  20151111132348-25km-D1-DROWSY-MOTORWAY   \n3               NaN            NaN  20151111132348-25km-D1-DROWSY-MOTORWAY   \n4               NaN            NaN  20151111132348-25km-D1-DROWSY-MOTORWAY   \n\n  trip_gps               timestamp  time_osm  Current road maxspeed  \\\n0      NaN 2015-11-11 13:23:48.510       NaN                    NaN   \n1      NaN 2015-11-11 13:23:48.510       NaN                    NaN   \n2      NaN 2015-11-11 13:23:48.510       NaN                    NaN   \n3      NaN 2015-11-11 13:23:48.510       NaN                    NaN   \n4      NaN 2015-11-11 13:23:48.510       NaN                    NaN   \n\n   Maxspeed reliability Road type  # of lanes in road  Estimated current lane  \\\n0                   NaN       NaN                 NaN                     NaN   \n1                   NaN       NaN                 NaN                     NaN   \n2                   NaN       NaN                 NaN                     NaN   \n3                   NaN       NaN                 NaN                     NaN   \n4                   NaN       NaN                 NaN                     NaN   \n\n   Latitude used to query OSM  Longitude used to query OSM  \\\n0                         NaN                          NaN   \n1                         NaN                          NaN   \n2                         NaN                          NaN   \n3                         NaN                          NaN   \n4                         NaN                          NaN   \n\n   Delay answer OSM query trip_osm  time  above 50kph     GX     GY     GZ  \\\n0                     NaN      NaN  0.51          0.0 -0.002 -0.067  0.032   \n1                     NaN      NaN  0.51          0.0 -0.002 -0.067  0.032   \n2                     NaN      NaN  0.51          0.0  0.004 -0.057  0.024   \n3                     NaN      NaN  0.51          0.0 -0.002 -0.067  0.032   \n4                     NaN      NaN  0.51          0.0 -0.002 -0.067  0.032   \n\n   GX_filt  GY_filt  GZ_filt   Roll  Pitch    Yaw                     trip  \\\n0   -0.002   -0.065    0.031 -1.675 -0.093 -0.172  25km-D1-DROWSY-MOTORWAY   \n1   -0.002   -0.063    0.030 -1.675 -0.093 -0.172  25km-D1-DROWSY-MOTORWAY   \n2    0.000   -0.010    0.005 -1.508 -0.084 -0.154  25km-D1-DROWSY-MOTORWAY   \n3   -0.001   -0.040    0.018 -1.675 -0.093 -0.172  25km-D1-DROWSY-MOTORWAY   \n4   -0.002   -0.056    0.026 -1.675 -0.093 -0.172  25km-D1-DROWSY-MOTORWAY   \n\n   speed  \n0    NaN  \n1    NaN  \n2    NaN  \n3    NaN  \n4    NaN  ",
      "text/html": "<div>\n<style scoped>\n    .dataframe tbody tr th:only-of-type {\n        vertical-align: middle;\n    }\n\n    .dataframe tbody tr th {\n        vertical-align: top;\n    }\n\n    .dataframe thead th {\n        text-align: right;\n    }\n</style>\n<table border=\"1\" class=\"dataframe\">\n  <thead>\n    <tr style=\"text-align: right;\">\n      <th></th>\n      <th>time_gps</th>\n      <th>Latitude</th>\n      <th>Longitude</th>\n      <th>Altitude</th>\n      <th>Vertical accuracy</th>\n      <th>Horizontal accuracy</th>\n      <th>Course</th>\n      <th>Difcourse: course variation</th>\n      <th>Position state</th>\n      <th>Lanex dist state</th>\n      <th>Lanex history</th>\n      <th>path</th>\n      <th>trip_gps</th>\n      <th>timestamp</th>\n      <th>time_osm</th>\n      <th>Current road maxspeed</th>\n      <th>Maxspeed reliability</th>\n      <th>Road type</th>\n      <th># of lanes in road</th>\n      <th>Estimated current lane</th>\n      <th>Latitude used to query OSM</th>\n      <th>Longitude used to query OSM</th>\n      <th>Delay answer OSM query</th>\n      <th>trip_osm</th>\n      <th>time</th>\n      <th>above 50kph</th>\n      <th>GX</th>\n      <th>GY</th>\n      <th>GZ</th>\n      <th>GX_filt</th>\n      <th>GY_filt</th>\n      <th>GZ_filt</th>\n      <th>Roll</th>\n      <th>Pitch</th>\n      <th>Yaw</th>\n      <th>trip</th>\n      <th>speed</th>\n    </tr>\n  </thead>\n  <tbody>\n    <tr>\n      <th>0</th>\n      <td>NaN</td>\n      <td>NaN</td>\n      <td>NaN</td>\n      <td>NaN</td>\n      <td>NaN</td>\n      <td>NaN</td>\n      <td>NaN</td>\n      <td>NaN</td>\n      <td>NaN</td>\n      <td>NaN</td>\n      <td>NaN</td>\n      <td>20151111132348-25km-D1-DROWSY-MOTORWAY</td>\n      <td>NaN</td>\n      <td>2015-11-11 13:23:48.510</td>\n      <td>NaN</td>\n      <td>NaN</td>\n      <td>NaN</td>\n      <td>NaN</td>\n      <td>NaN</td>\n      <td>NaN</td>\n      <td>NaN</td>\n      <td>NaN</td>\n      <td>NaN</td>\n      <td>NaN</td>\n      <td>0.51</td>\n      <td>0.0</td>\n      <td>-0.002</td>\n      <td>-0.067</td>\n      <td>0.032</td>\n      <td>-0.002</td>\n      <td>-0.065</td>\n      <td>0.031</td>\n      <td>-1.675</td>\n      <td>-0.093</td>\n      <td>-0.172</td>\n      <td>25km-D1-DROWSY-MOTORWAY</td>\n      <td>NaN</td>\n    </tr>\n    <tr>\n      <th>1</th>\n      <td>NaN</td>\n      <td>NaN</td>\n      <td>NaN</td>\n      <td>NaN</td>\n      <td>NaN</td>\n      <td>NaN</td>\n      <td>NaN</td>\n      <td>NaN</td>\n      <td>NaN</td>\n      <td>NaN</td>\n      <td>NaN</td>\n      <td>20151111132348-25km-D1-DROWSY-MOTORWAY</td>\n      <td>NaN</td>\n      <td>2015-11-11 13:23:48.510</td>\n      <td>NaN</td>\n      <td>NaN</td>\n      <td>NaN</td>\n      <td>NaN</td>\n      <td>NaN</td>\n      <td>NaN</td>\n      <td>NaN</td>\n      <td>NaN</td>\n      <td>NaN</td>\n      <td>NaN</td>\n      <td>0.51</td>\n      <td>0.0</td>\n      <td>-0.002</td>\n      <td>-0.067</td>\n      <td>0.032</td>\n      <td>-0.002</td>\n      <td>-0.063</td>\n      <td>0.030</td>\n      <td>-1.675</td>\n      <td>-0.093</td>\n      <td>-0.172</td>\n      <td>25km-D1-DROWSY-MOTORWAY</td>\n      <td>NaN</td>\n    </tr>\n    <tr>\n      <th>2</th>\n      <td>NaN</td>\n      <td>NaN</td>\n      <td>NaN</td>\n      <td>NaN</td>\n      <td>NaN</td>\n      <td>NaN</td>\n      <td>NaN</td>\n      <td>NaN</td>\n      <td>NaN</td>\n      <td>NaN</td>\n      <td>NaN</td>\n      <td>20151111132348-25km-D1-DROWSY-MOTORWAY</td>\n      <td>NaN</td>\n      <td>2015-11-11 13:23:48.510</td>\n      <td>NaN</td>\n      <td>NaN</td>\n      <td>NaN</td>\n      <td>NaN</td>\n      <td>NaN</td>\n      <td>NaN</td>\n      <td>NaN</td>\n      <td>NaN</td>\n      <td>NaN</td>\n      <td>NaN</td>\n      <td>0.51</td>\n      <td>0.0</td>\n      <td>0.004</td>\n      <td>-0.057</td>\n      <td>0.024</td>\n      <td>0.000</td>\n      <td>-0.010</td>\n      <td>0.005</td>\n      <td>-1.508</td>\n      <td>-0.084</td>\n      <td>-0.154</td>\n      <td>25km-D1-DROWSY-MOTORWAY</td>\n      <td>NaN</td>\n    </tr>\n    <tr>\n      <th>3</th>\n      <td>NaN</td>\n      <td>NaN</td>\n      <td>NaN</td>\n      <td>NaN</td>\n      <td>NaN</td>\n      <td>NaN</td>\n      <td>NaN</td>\n      <td>NaN</td>\n      <td>NaN</td>\n      <td>NaN</td>\n      <td>NaN</td>\n      <td>20151111132348-25km-D1-DROWSY-MOTORWAY</td>\n      <td>NaN</td>\n      <td>2015-11-11 13:23:48.510</td>\n      <td>NaN</td>\n      <td>NaN</td>\n      <td>NaN</td>\n      <td>NaN</td>\n      <td>NaN</td>\n      <td>NaN</td>\n      <td>NaN</td>\n      <td>NaN</td>\n      <td>NaN</td>\n      <td>NaN</td>\n      <td>0.51</td>\n      <td>0.0</td>\n      <td>-0.002</td>\n      <td>-0.067</td>\n      <td>0.032</td>\n      <td>-0.001</td>\n      <td>-0.040</td>\n      <td>0.018</td>\n      <td>-1.675</td>\n      <td>-0.093</td>\n      <td>-0.172</td>\n      <td>25km-D1-DROWSY-MOTORWAY</td>\n      <td>NaN</td>\n    </tr>\n    <tr>\n      <th>4</th>\n      <td>NaN</td>\n      <td>NaN</td>\n      <td>NaN</td>\n      <td>NaN</td>\n      <td>NaN</td>\n      <td>NaN</td>\n      <td>NaN</td>\n      <td>NaN</td>\n      <td>NaN</td>\n      <td>NaN</td>\n      <td>NaN</td>\n      <td>20151111132348-25km-D1-DROWSY-MOTORWAY</td>\n      <td>NaN</td>\n      <td>2015-11-11 13:23:48.510</td>\n      <td>NaN</td>\n      <td>NaN</td>\n      <td>NaN</td>\n      <td>NaN</td>\n      <td>NaN</td>\n      <td>NaN</td>\n      <td>NaN</td>\n      <td>NaN</td>\n      <td>NaN</td>\n      <td>NaN</td>\n      <td>0.51</td>\n      <td>0.0</td>\n      <td>-0.002</td>\n      <td>-0.067</td>\n      <td>0.032</td>\n      <td>-0.002</td>\n      <td>-0.056</td>\n      <td>0.026</td>\n      <td>-1.675</td>\n      <td>-0.093</td>\n      <td>-0.172</td>\n      <td>25km-D1-DROWSY-MOTORWAY</td>\n      <td>NaN</td>\n    </tr>\n  </tbody>\n</table>\n</div>"
     },
     "metadata": {}
    },
    {
     "output_type": "display_data",
     "data": {
      "text/plain": "Empty DataFrame\nColumns: [time_gps, Latitude, Longitude, Altitude, Vertical accuracy, Horizontal accuracy, Course, Difcourse: course variation, Position state, Lanex dist state, Lanex history, path, trip_gps, timestamp, time_osm, Current road maxspeed, Maxspeed reliability, Road type, # of lanes in road, Estimated current lane, Latitude used to query OSM, Longitude used to query OSM, Delay answer OSM query, trip_osm, time, above 50kph, GX, GY, GZ, GX_filt, GY_filt, GZ_filt, Roll, Pitch, Yaw, trip, speed]\nIndex: []",
      "text/html": "<div>\n<style scoped>\n    .dataframe tbody tr th:only-of-type {\n        vertical-align: middle;\n    }\n\n    .dataframe tbody tr th {\n        vertical-align: top;\n    }\n\n    .dataframe thead th {\n        text-align: right;\n    }\n</style>\n<table border=\"1\" class=\"dataframe\">\n  <thead>\n    <tr style=\"text-align: right;\">\n      <th></th>\n      <th>time_gps</th>\n      <th>Latitude</th>\n      <th>Longitude</th>\n      <th>Altitude</th>\n      <th>Vertical accuracy</th>\n      <th>Horizontal accuracy</th>\n      <th>Course</th>\n      <th>Difcourse: course variation</th>\n      <th>Position state</th>\n      <th>Lanex dist state</th>\n      <th>Lanex history</th>\n      <th>path</th>\n      <th>trip_gps</th>\n      <th>timestamp</th>\n      <th>time_osm</th>\n      <th>Current road maxspeed</th>\n      <th>Maxspeed reliability</th>\n      <th>Road type</th>\n      <th># of lanes in road</th>\n      <th>Estimated current lane</th>\n      <th>Latitude used to query OSM</th>\n      <th>Longitude used to query OSM</th>\n      <th>Delay answer OSM query</th>\n      <th>trip_osm</th>\n      <th>time</th>\n      <th>above 50kph</th>\n      <th>GX</th>\n      <th>GY</th>\n      <th>GZ</th>\n      <th>GX_filt</th>\n      <th>GY_filt</th>\n      <th>GZ_filt</th>\n      <th>Roll</th>\n      <th>Pitch</th>\n      <th>Yaw</th>\n      <th>trip</th>\n      <th>speed</th>\n    </tr>\n  </thead>\n  <tbody>\n  </tbody>\n</table>\n</div>"
     },
     "metadata": {}
    }
   ],
   "source": [
    "with pd.option_context('display.max_columns', None):\n",
    "    display(df.head())\n",
    "    display(df.tail())"
   ]
  },
  {
   "cell_type": "markdown",
   "metadata": {},
   "source": [
    "We can see that at the start of the datalogger recording (for the acceleromters) there is the same timestamp for a few points. We'll only take the last values. Same issue is visible in raw data, so it is not a processing mistake."
   ]
  },
  {
   "cell_type": "code",
   "execution_count": 40,
   "metadata": {},
   "outputs": [],
   "source": [
    "df = df.groupby('path').apply(\n",
    "    lambda x: x.drop_duplicates('time', keep='last')\n",
    ").reset_index(drop=True)"
   ]
  },
  {
   "cell_type": "markdown",
   "metadata": {},
   "source": [
    "Index in Dask when reset is partition-dependant, as such I created a robust index below"
   ]
  },
  {
   "cell_type": "code",
   "execution_count": 41,
   "metadata": {},
   "outputs": [],
   "source": [
    "df = df.repartition(partition_size='10MB')"
   ]
  },
  {
   "cell_type": "code",
   "execution_count": 42,
   "metadata": {},
   "outputs": [],
   "source": [
    "from lib.util import reset_index_dask\n",
    "df = reset_index_dask(df)"
   ]
  },
  {
   "cell_type": "code",
   "execution_count": 43,
   "metadata": {},
   "outputs": [],
   "source": [
    "df = df.map_partitions(lambda x: x.rename(str.lower, axis='columns'))"
   ]
  },
  {
   "cell_type": "code",
   "execution_count": 44,
   "metadata": {},
   "outputs": [
    {
     "output_type": "display_data",
     "data": {
      "text/plain": "     time_gps  latitude  longitude  altitude  vertical accuracy  \\\nidx                                                               \n0         NaN       NaN        NaN       NaN                NaN   \n1         NaN       NaN        NaN       NaN                NaN   \n2         NaN       NaN        NaN       NaN                NaN   \n3         NaN       NaN        NaN       NaN                NaN   \n4         NaN       NaN        NaN       NaN                NaN   \n\n     horizontal accuracy  course  difcourse: course variation  position state  \\\nidx                                                                             \n0                    NaN     NaN                          NaN             NaN   \n1                    NaN     NaN                          NaN             NaN   \n2                    NaN     NaN                          NaN             NaN   \n3                    NaN     NaN                          NaN             NaN   \n4                    NaN     NaN                          NaN             NaN   \n\n     lanex dist state  lanex history                                    path  \\\nidx                                                                            \n0                 NaN            NaN  20151111132348-25km-D1-DROWSY-MOTORWAY   \n1                 NaN            NaN  20151111132348-25km-D1-DROWSY-MOTORWAY   \n2                 NaN            NaN  20151111132348-25km-D1-DROWSY-MOTORWAY   \n3                 NaN            NaN  20151111132348-25km-D1-DROWSY-MOTORWAY   \n4                 NaN            NaN  20151111132348-25km-D1-DROWSY-MOTORWAY   \n\n    trip_gps               timestamp  time_osm  current road maxspeed  \\\nidx                                                                     \n0        NaN 2015-11-11 13:23:48.510       NaN                    NaN   \n1        NaN 2015-11-11 13:23:48.610       NaN                    NaN   \n2        NaN 2015-11-11 13:23:48.710       NaN                    NaN   \n3        NaN 2015-11-11 13:23:48.810       NaN                    NaN   \n4        NaN 2015-11-11 13:23:48.920       NaN                    NaN   \n\n     maxspeed reliability road type  # of lanes in road  \\\nidx                                                       \n0                     NaN       NaN                 NaN   \n1                     NaN       NaN                 NaN   \n2                     NaN       NaN                 NaN   \n3                     NaN       NaN                 NaN   \n4                     NaN       NaN                 NaN   \n\n     estimated current lane  latitude used to query osm  \\\nidx                                                       \n0                       NaN                         NaN   \n1                       NaN                         NaN   \n2                       NaN                         NaN   \n3                       NaN                         NaN   \n4                       NaN                         NaN   \n\n     longitude used to query osm  delay answer osm query trip_osm  time  \\\nidx                                                                       \n0                            NaN                     NaN      NaN  0.51   \n1                            NaN                     NaN      NaN  0.61   \n2                            NaN                     NaN      NaN  0.71   \n3                            NaN                     NaN      NaN  0.81   \n4                            NaN                     NaN      NaN  0.92   \n\n     above 50kph     gx     gy     gz  gx_filt  gy_filt  gz_filt   roll  \\\nidx                                                                       \n0            0.0 -0.002 -0.067  0.032   -0.002   -0.065    0.031 -1.675   \n1            0.0 -0.066 -0.100 -0.008   -0.026   -0.079    0.016 -1.675   \n2            0.0  0.008 -0.073 -0.007   -0.025   -0.084    0.000 -1.674   \n3            0.0 -0.007 -0.061  0.004   -0.005   -0.069   -0.001 -1.673   \n4            0.0  0.024 -0.047  0.006    0.002   -0.059    0.005 -1.672   \n\n     pitch    yaw                     trip  speed  \nidx                                                \n0   -0.093 -0.172  25km-D1-DROWSY-MOTORWAY    NaN  \n1   -0.090 -0.173  25km-D1-DROWSY-MOTORWAY    NaN  \n2   -0.080 -0.175  25km-D1-DROWSY-MOTORWAY    NaN  \n3   -0.073 -0.176  25km-D1-DROWSY-MOTORWAY    NaN  \n4   -0.070 -0.178  25km-D1-DROWSY-MOTORWAY    NaN  ",
      "text/html": "<div>\n<style scoped>\n    .dataframe tbody tr th:only-of-type {\n        vertical-align: middle;\n    }\n\n    .dataframe tbody tr th {\n        vertical-align: top;\n    }\n\n    .dataframe thead th {\n        text-align: right;\n    }\n</style>\n<table border=\"1\" class=\"dataframe\">\n  <thead>\n    <tr style=\"text-align: right;\">\n      <th></th>\n      <th>time_gps</th>\n      <th>latitude</th>\n      <th>longitude</th>\n      <th>altitude</th>\n      <th>vertical accuracy</th>\n      <th>horizontal accuracy</th>\n      <th>course</th>\n      <th>difcourse: course variation</th>\n      <th>position state</th>\n      <th>lanex dist state</th>\n      <th>lanex history</th>\n      <th>path</th>\n      <th>trip_gps</th>\n      <th>timestamp</th>\n      <th>time_osm</th>\n      <th>current road maxspeed</th>\n      <th>maxspeed reliability</th>\n      <th>road type</th>\n      <th># of lanes in road</th>\n      <th>estimated current lane</th>\n      <th>latitude used to query osm</th>\n      <th>longitude used to query osm</th>\n      <th>delay answer osm query</th>\n      <th>trip_osm</th>\n      <th>time</th>\n      <th>above 50kph</th>\n      <th>gx</th>\n      <th>gy</th>\n      <th>gz</th>\n      <th>gx_filt</th>\n      <th>gy_filt</th>\n      <th>gz_filt</th>\n      <th>roll</th>\n      <th>pitch</th>\n      <th>yaw</th>\n      <th>trip</th>\n      <th>speed</th>\n    </tr>\n    <tr>\n      <th>idx</th>\n      <th></th>\n      <th></th>\n      <th></th>\n      <th></th>\n      <th></th>\n      <th></th>\n      <th></th>\n      <th></th>\n      <th></th>\n      <th></th>\n      <th></th>\n      <th></th>\n      <th></th>\n      <th></th>\n      <th></th>\n      <th></th>\n      <th></th>\n      <th></th>\n      <th></th>\n      <th></th>\n      <th></th>\n      <th></th>\n      <th></th>\n      <th></th>\n      <th></th>\n      <th></th>\n      <th></th>\n      <th></th>\n      <th></th>\n      <th></th>\n      <th></th>\n      <th></th>\n      <th></th>\n      <th></th>\n      <th></th>\n      <th></th>\n      <th></th>\n    </tr>\n  </thead>\n  <tbody>\n    <tr>\n      <th>0</th>\n      <td>NaN</td>\n      <td>NaN</td>\n      <td>NaN</td>\n      <td>NaN</td>\n      <td>NaN</td>\n      <td>NaN</td>\n      <td>NaN</td>\n      <td>NaN</td>\n      <td>NaN</td>\n      <td>NaN</td>\n      <td>NaN</td>\n      <td>20151111132348-25km-D1-DROWSY-MOTORWAY</td>\n      <td>NaN</td>\n      <td>2015-11-11 13:23:48.510</td>\n      <td>NaN</td>\n      <td>NaN</td>\n      <td>NaN</td>\n      <td>NaN</td>\n      <td>NaN</td>\n      <td>NaN</td>\n      <td>NaN</td>\n      <td>NaN</td>\n      <td>NaN</td>\n      <td>NaN</td>\n      <td>0.51</td>\n      <td>0.0</td>\n      <td>-0.002</td>\n      <td>-0.067</td>\n      <td>0.032</td>\n      <td>-0.002</td>\n      <td>-0.065</td>\n      <td>0.031</td>\n      <td>-1.675</td>\n      <td>-0.093</td>\n      <td>-0.172</td>\n      <td>25km-D1-DROWSY-MOTORWAY</td>\n      <td>NaN</td>\n    </tr>\n    <tr>\n      <th>1</th>\n      <td>NaN</td>\n      <td>NaN</td>\n      <td>NaN</td>\n      <td>NaN</td>\n      <td>NaN</td>\n      <td>NaN</td>\n      <td>NaN</td>\n      <td>NaN</td>\n      <td>NaN</td>\n      <td>NaN</td>\n      <td>NaN</td>\n      <td>20151111132348-25km-D1-DROWSY-MOTORWAY</td>\n      <td>NaN</td>\n      <td>2015-11-11 13:23:48.610</td>\n      <td>NaN</td>\n      <td>NaN</td>\n      <td>NaN</td>\n      <td>NaN</td>\n      <td>NaN</td>\n      <td>NaN</td>\n      <td>NaN</td>\n      <td>NaN</td>\n      <td>NaN</td>\n      <td>NaN</td>\n      <td>0.61</td>\n      <td>0.0</td>\n      <td>-0.066</td>\n      <td>-0.100</td>\n      <td>-0.008</td>\n      <td>-0.026</td>\n      <td>-0.079</td>\n      <td>0.016</td>\n      <td>-1.675</td>\n      <td>-0.090</td>\n      <td>-0.173</td>\n      <td>25km-D1-DROWSY-MOTORWAY</td>\n      <td>NaN</td>\n    </tr>\n    <tr>\n      <th>2</th>\n      <td>NaN</td>\n      <td>NaN</td>\n      <td>NaN</td>\n      <td>NaN</td>\n      <td>NaN</td>\n      <td>NaN</td>\n      <td>NaN</td>\n      <td>NaN</td>\n      <td>NaN</td>\n      <td>NaN</td>\n      <td>NaN</td>\n      <td>20151111132348-25km-D1-DROWSY-MOTORWAY</td>\n      <td>NaN</td>\n      <td>2015-11-11 13:23:48.710</td>\n      <td>NaN</td>\n      <td>NaN</td>\n      <td>NaN</td>\n      <td>NaN</td>\n      <td>NaN</td>\n      <td>NaN</td>\n      <td>NaN</td>\n      <td>NaN</td>\n      <td>NaN</td>\n      <td>NaN</td>\n      <td>0.71</td>\n      <td>0.0</td>\n      <td>0.008</td>\n      <td>-0.073</td>\n      <td>-0.007</td>\n      <td>-0.025</td>\n      <td>-0.084</td>\n      <td>0.000</td>\n      <td>-1.674</td>\n      <td>-0.080</td>\n      <td>-0.175</td>\n      <td>25km-D1-DROWSY-MOTORWAY</td>\n      <td>NaN</td>\n    </tr>\n    <tr>\n      <th>3</th>\n      <td>NaN</td>\n      <td>NaN</td>\n      <td>NaN</td>\n      <td>NaN</td>\n      <td>NaN</td>\n      <td>NaN</td>\n      <td>NaN</td>\n      <td>NaN</td>\n      <td>NaN</td>\n      <td>NaN</td>\n      <td>NaN</td>\n      <td>20151111132348-25km-D1-DROWSY-MOTORWAY</td>\n      <td>NaN</td>\n      <td>2015-11-11 13:23:48.810</td>\n      <td>NaN</td>\n      <td>NaN</td>\n      <td>NaN</td>\n      <td>NaN</td>\n      <td>NaN</td>\n      <td>NaN</td>\n      <td>NaN</td>\n      <td>NaN</td>\n      <td>NaN</td>\n      <td>NaN</td>\n      <td>0.81</td>\n      <td>0.0</td>\n      <td>-0.007</td>\n      <td>-0.061</td>\n      <td>0.004</td>\n      <td>-0.005</td>\n      <td>-0.069</td>\n      <td>-0.001</td>\n      <td>-1.673</td>\n      <td>-0.073</td>\n      <td>-0.176</td>\n      <td>25km-D1-DROWSY-MOTORWAY</td>\n      <td>NaN</td>\n    </tr>\n    <tr>\n      <th>4</th>\n      <td>NaN</td>\n      <td>NaN</td>\n      <td>NaN</td>\n      <td>NaN</td>\n      <td>NaN</td>\n      <td>NaN</td>\n      <td>NaN</td>\n      <td>NaN</td>\n      <td>NaN</td>\n      <td>NaN</td>\n      <td>NaN</td>\n      <td>20151111132348-25km-D1-DROWSY-MOTORWAY</td>\n      <td>NaN</td>\n      <td>2015-11-11 13:23:48.920</td>\n      <td>NaN</td>\n      <td>NaN</td>\n      <td>NaN</td>\n      <td>NaN</td>\n      <td>NaN</td>\n      <td>NaN</td>\n      <td>NaN</td>\n      <td>NaN</td>\n      <td>NaN</td>\n      <td>NaN</td>\n      <td>0.92</td>\n      <td>0.0</td>\n      <td>0.024</td>\n      <td>-0.047</td>\n      <td>0.006</td>\n      <td>0.002</td>\n      <td>-0.059</td>\n      <td>0.005</td>\n      <td>-1.672</td>\n      <td>-0.070</td>\n      <td>-0.178</td>\n      <td>25km-D1-DROWSY-MOTORWAY</td>\n      <td>NaN</td>\n    </tr>\n  </tbody>\n</table>\n</div>"
     },
     "metadata": {}
    },
    {
     "output_type": "display_data",
     "data": {
      "text/plain": "        time_gps  latitude  longitude  altitude  vertical accuracy  \\\nidx                                                                  \n311173       NaN       NaN        NaN       NaN                NaN   \n311174       NaN       NaN        NaN       NaN                NaN   \n311175       NaN       NaN        NaN       NaN                NaN   \n311176       NaN       NaN        NaN       NaN                NaN   \n311177       NaN       NaN        NaN       NaN                NaN   \n\n        horizontal accuracy  course  difcourse: course variation  \\\nidx                                                                \n311173                  NaN     NaN                          NaN   \n311174                  NaN     NaN                          NaN   \n311175                  NaN     NaN                          NaN   \n311176                  NaN     NaN                          NaN   \n311177                  NaN     NaN                          NaN   \n\n        position state  lanex dist state  lanex history  \\\nidx                                                       \n311173             NaN               NaN            NaN   \n311174             NaN               NaN            NaN   \n311175             NaN               NaN            NaN   \n311176             NaN               NaN            NaN   \n311177             NaN               NaN            NaN   \n\n                                              path trip_gps  \\\nidx                                                           \n311173  20151111125233-24km-D1-AGGRESSIVE-MOTORWAY      NaN   \n311174  20151111125233-24km-D1-AGGRESSIVE-MOTORWAY      NaN   \n311175  20151111125233-24km-D1-AGGRESSIVE-MOTORWAY      NaN   \n311176  20151111125233-24km-D1-AGGRESSIVE-MOTORWAY      NaN   \n311177  20151111125233-24km-D1-AGGRESSIVE-MOTORWAY      NaN   \n\n                     timestamp  time_osm  current road maxspeed  \\\nidx                                                               \n311173 2015-11-11 13:04:58.450       NaN                    NaN   \n311174 2015-11-11 13:04:58.550       NaN                    NaN   \n311175 2015-11-11 13:04:58.650       NaN                    NaN   \n311176 2015-11-11 13:04:58.750       NaN                    NaN   \n311177 2015-11-11 13:04:58.850       NaN                    NaN   \n\n        maxspeed reliability road type  # of lanes in road  \\\nidx                                                          \n311173                   NaN       NaN                 NaN   \n311174                   NaN       NaN                 NaN   \n311175                   NaN       NaN                 NaN   \n311176                   NaN       NaN                 NaN   \n311177                   NaN       NaN                 NaN   \n\n        estimated current lane  latitude used to query osm  \\\nidx                                                          \n311173                     NaN                         NaN   \n311174                     NaN                         NaN   \n311175                     NaN                         NaN   \n311176                     NaN                         NaN   \n311177                     NaN                         NaN   \n\n        longitude used to query osm  delay answer osm query trip_osm    time  \\\nidx                                                                            \n311173                          NaN                     NaN      NaN  745.45   \n311174                          NaN                     NaN      NaN  745.55   \n311175                          NaN                     NaN      NaN  745.65   \n311176                          NaN                     NaN      NaN  745.75   \n311177                          NaN                     NaN      NaN  745.85   \n\n        above 50kph     gx     gy     gz  gx_filt  gy_filt  gz_filt   roll  \\\nidx                                                                          \n311173          1.0  0.004 -0.009  0.019   -0.003   -0.017    0.009 -1.527   \n311174          1.0 -0.013 -0.019 -0.049    0.004   -0.033   -0.005 -1.525   \n311175          1.0 -0.082 -0.012  0.001   -0.043   -0.007   -0.024 -1.526   \n311176          1.0 -0.041 -0.037  0.025   -0.052   -0.021    0.010 -1.528   \n311177          1.0 -0.019 -0.047 -0.031   -0.032   -0.029   -0.011 -1.526   \n\n        pitch    yaw                         trip  speed  \nidx                                                       \n311173  0.010 -2.639  24km-D1-AGGRESSIVE-MOTORWAY    NaN  \n311174  0.015 -2.636  24km-D1-AGGRESSIVE-MOTORWAY    NaN  \n311175  0.014 -2.637  24km-D1-AGGRESSIVE-MOTORWAY    NaN  \n311176  0.014 -2.632  24km-D1-AGGRESSIVE-MOTORWAY    NaN  \n311177  0.019 -2.630  24km-D1-AGGRESSIVE-MOTORWAY    NaN  ",
      "text/html": "<div>\n<style scoped>\n    .dataframe tbody tr th:only-of-type {\n        vertical-align: middle;\n    }\n\n    .dataframe tbody tr th {\n        vertical-align: top;\n    }\n\n    .dataframe thead th {\n        text-align: right;\n    }\n</style>\n<table border=\"1\" class=\"dataframe\">\n  <thead>\n    <tr style=\"text-align: right;\">\n      <th></th>\n      <th>time_gps</th>\n      <th>latitude</th>\n      <th>longitude</th>\n      <th>altitude</th>\n      <th>vertical accuracy</th>\n      <th>horizontal accuracy</th>\n      <th>course</th>\n      <th>difcourse: course variation</th>\n      <th>position state</th>\n      <th>lanex dist state</th>\n      <th>lanex history</th>\n      <th>path</th>\n      <th>trip_gps</th>\n      <th>timestamp</th>\n      <th>time_osm</th>\n      <th>current road maxspeed</th>\n      <th>maxspeed reliability</th>\n      <th>road type</th>\n      <th># of lanes in road</th>\n      <th>estimated current lane</th>\n      <th>latitude used to query osm</th>\n      <th>longitude used to query osm</th>\n      <th>delay answer osm query</th>\n      <th>trip_osm</th>\n      <th>time</th>\n      <th>above 50kph</th>\n      <th>gx</th>\n      <th>gy</th>\n      <th>gz</th>\n      <th>gx_filt</th>\n      <th>gy_filt</th>\n      <th>gz_filt</th>\n      <th>roll</th>\n      <th>pitch</th>\n      <th>yaw</th>\n      <th>trip</th>\n      <th>speed</th>\n    </tr>\n    <tr>\n      <th>idx</th>\n      <th></th>\n      <th></th>\n      <th></th>\n      <th></th>\n      <th></th>\n      <th></th>\n      <th></th>\n      <th></th>\n      <th></th>\n      <th></th>\n      <th></th>\n      <th></th>\n      <th></th>\n      <th></th>\n      <th></th>\n      <th></th>\n      <th></th>\n      <th></th>\n      <th></th>\n      <th></th>\n      <th></th>\n      <th></th>\n      <th></th>\n      <th></th>\n      <th></th>\n      <th></th>\n      <th></th>\n      <th></th>\n      <th></th>\n      <th></th>\n      <th></th>\n      <th></th>\n      <th></th>\n      <th></th>\n      <th></th>\n      <th></th>\n      <th></th>\n    </tr>\n  </thead>\n  <tbody>\n    <tr>\n      <th>311173</th>\n      <td>NaN</td>\n      <td>NaN</td>\n      <td>NaN</td>\n      <td>NaN</td>\n      <td>NaN</td>\n      <td>NaN</td>\n      <td>NaN</td>\n      <td>NaN</td>\n      <td>NaN</td>\n      <td>NaN</td>\n      <td>NaN</td>\n      <td>20151111125233-24km-D1-AGGRESSIVE-MOTORWAY</td>\n      <td>NaN</td>\n      <td>2015-11-11 13:04:58.450</td>\n      <td>NaN</td>\n      <td>NaN</td>\n      <td>NaN</td>\n      <td>NaN</td>\n      <td>NaN</td>\n      <td>NaN</td>\n      <td>NaN</td>\n      <td>NaN</td>\n      <td>NaN</td>\n      <td>NaN</td>\n      <td>745.45</td>\n      <td>1.0</td>\n      <td>0.004</td>\n      <td>-0.009</td>\n      <td>0.019</td>\n      <td>-0.003</td>\n      <td>-0.017</td>\n      <td>0.009</td>\n      <td>-1.527</td>\n      <td>0.010</td>\n      <td>-2.639</td>\n      <td>24km-D1-AGGRESSIVE-MOTORWAY</td>\n      <td>NaN</td>\n    </tr>\n    <tr>\n      <th>311174</th>\n      <td>NaN</td>\n      <td>NaN</td>\n      <td>NaN</td>\n      <td>NaN</td>\n      <td>NaN</td>\n      <td>NaN</td>\n      <td>NaN</td>\n      <td>NaN</td>\n      <td>NaN</td>\n      <td>NaN</td>\n      <td>NaN</td>\n      <td>20151111125233-24km-D1-AGGRESSIVE-MOTORWAY</td>\n      <td>NaN</td>\n      <td>2015-11-11 13:04:58.550</td>\n      <td>NaN</td>\n      <td>NaN</td>\n      <td>NaN</td>\n      <td>NaN</td>\n      <td>NaN</td>\n      <td>NaN</td>\n      <td>NaN</td>\n      <td>NaN</td>\n      <td>NaN</td>\n      <td>NaN</td>\n      <td>745.55</td>\n      <td>1.0</td>\n      <td>-0.013</td>\n      <td>-0.019</td>\n      <td>-0.049</td>\n      <td>0.004</td>\n      <td>-0.033</td>\n      <td>-0.005</td>\n      <td>-1.525</td>\n      <td>0.015</td>\n      <td>-2.636</td>\n      <td>24km-D1-AGGRESSIVE-MOTORWAY</td>\n      <td>NaN</td>\n    </tr>\n    <tr>\n      <th>311175</th>\n      <td>NaN</td>\n      <td>NaN</td>\n      <td>NaN</td>\n      <td>NaN</td>\n      <td>NaN</td>\n      <td>NaN</td>\n      <td>NaN</td>\n      <td>NaN</td>\n      <td>NaN</td>\n      <td>NaN</td>\n      <td>NaN</td>\n      <td>20151111125233-24km-D1-AGGRESSIVE-MOTORWAY</td>\n      <td>NaN</td>\n      <td>2015-11-11 13:04:58.650</td>\n      <td>NaN</td>\n      <td>NaN</td>\n      <td>NaN</td>\n      <td>NaN</td>\n      <td>NaN</td>\n      <td>NaN</td>\n      <td>NaN</td>\n      <td>NaN</td>\n      <td>NaN</td>\n      <td>NaN</td>\n      <td>745.65</td>\n      <td>1.0</td>\n      <td>-0.082</td>\n      <td>-0.012</td>\n      <td>0.001</td>\n      <td>-0.043</td>\n      <td>-0.007</td>\n      <td>-0.024</td>\n      <td>-1.526</td>\n      <td>0.014</td>\n      <td>-2.637</td>\n      <td>24km-D1-AGGRESSIVE-MOTORWAY</td>\n      <td>NaN</td>\n    </tr>\n    <tr>\n      <th>311176</th>\n      <td>NaN</td>\n      <td>NaN</td>\n      <td>NaN</td>\n      <td>NaN</td>\n      <td>NaN</td>\n      <td>NaN</td>\n      <td>NaN</td>\n      <td>NaN</td>\n      <td>NaN</td>\n      <td>NaN</td>\n      <td>NaN</td>\n      <td>20151111125233-24km-D1-AGGRESSIVE-MOTORWAY</td>\n      <td>NaN</td>\n      <td>2015-11-11 13:04:58.750</td>\n      <td>NaN</td>\n      <td>NaN</td>\n      <td>NaN</td>\n      <td>NaN</td>\n      <td>NaN</td>\n      <td>NaN</td>\n      <td>NaN</td>\n      <td>NaN</td>\n      <td>NaN</td>\n      <td>NaN</td>\n      <td>745.75</td>\n      <td>1.0</td>\n      <td>-0.041</td>\n      <td>-0.037</td>\n      <td>0.025</td>\n      <td>-0.052</td>\n      <td>-0.021</td>\n      <td>0.010</td>\n      <td>-1.528</td>\n      <td>0.014</td>\n      <td>-2.632</td>\n      <td>24km-D1-AGGRESSIVE-MOTORWAY</td>\n      <td>NaN</td>\n    </tr>\n    <tr>\n      <th>311177</th>\n      <td>NaN</td>\n      <td>NaN</td>\n      <td>NaN</td>\n      <td>NaN</td>\n      <td>NaN</td>\n      <td>NaN</td>\n      <td>NaN</td>\n      <td>NaN</td>\n      <td>NaN</td>\n      <td>NaN</td>\n      <td>NaN</td>\n      <td>20151111125233-24km-D1-AGGRESSIVE-MOTORWAY</td>\n      <td>NaN</td>\n      <td>2015-11-11 13:04:58.850</td>\n      <td>NaN</td>\n      <td>NaN</td>\n      <td>NaN</td>\n      <td>NaN</td>\n      <td>NaN</td>\n      <td>NaN</td>\n      <td>NaN</td>\n      <td>NaN</td>\n      <td>NaN</td>\n      <td>NaN</td>\n      <td>745.85</td>\n      <td>1.0</td>\n      <td>-0.019</td>\n      <td>-0.047</td>\n      <td>-0.031</td>\n      <td>-0.032</td>\n      <td>-0.029</td>\n      <td>-0.011</td>\n      <td>-1.526</td>\n      <td>0.019</td>\n      <td>-2.630</td>\n      <td>24km-D1-AGGRESSIVE-MOTORWAY</td>\n      <td>NaN</td>\n    </tr>\n  </tbody>\n</table>\n</div>"
     },
     "metadata": {}
    }
   ],
   "source": [
    "with pd.option_context('display.max_columns', None):\n",
    "    display(df.head())\n",
    "    display(df.tail())"
   ]
  },
  {
   "cell_type": "code",
   "execution_count": 45,
   "metadata": {},
   "outputs": [],
   "source": [
    "df.to_parquet(Path(fp, 'data.parquet'))"
   ]
  }
 ],
 "metadata": {
  "language_info": {
   "codemirror_mode": {
    "name": "ipython",
    "version": 3
   },
   "file_extension": ".py",
   "mimetype": "text/x-python",
   "name": "python",
   "nbconvert_exporter": "python",
   "pygments_lexer": "ipython3",
   "version": "3.7.7-final"
  },
  "orig_nbformat": 2,
  "kernelspec": {
   "name": "python37664bitanaconda3virtualenve1a4736af11941998e96b52408d2750f",
   "display_name": "Python 3.7.6 64-bit ('anaconda3': virtualenv)"
  }
 },
 "nbformat": 4,
 "nbformat_minor": 2
}